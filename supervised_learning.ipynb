{
  "nbformat": 4,
  "nbformat_minor": 0,
  "metadata": {
    "colab": {
      "name": "supervised_learning.ipynb",
      "provenance": [],
      "collapsed_sections": []
    },
    "kernelspec": {
      "display_name": "Python 3",
      "name": "python3"
    },
    "language_info": {
      "name": "python"
    }
  },
  "cells": [
    {
      "cell_type": "code",
      "metadata": {
        "id": "o4qNNPeTC1GR"
      },
      "source": [
        "import numpy as np\n",
        "import pandas as pd\n",
        "import seaborn as sns\n",
        "import matplotlib.pyplot as plt"
      ],
      "execution_count": null,
      "outputs": []
    },
    {
      "cell_type": "markdown",
      "metadata": {
        "id": "7hiYhZWIErZo"
      },
      "source": [
        "#Download Datasets"
      ]
    },
    {
      "cell_type": "code",
      "metadata": {
        "colab": {
          "resources": {
            "http://localhost:8080/nbextensions/google.colab/files.js": {
              "data": "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",
              "ok": true,
              "headers": [
                [
                  "content-type",
                  "application/javascript"
                ]
              ],
              "status": 200,
              "status_text": ""
            }
          },
          "base_uri": "https://localhost:8080/",
          "height": 140
        },
        "id": "SzGu_ioMER7D",
        "outputId": "cc682a63-308f-417e-a12f-e770524da8b2"
      },
      "source": [
        "from google.colab import files\n",
        "\n",
        "data_upload = files.upload()\n",
        "\n",
        "for file_name in data_upload.keys():\n",
        "  print(f\" successfully uploaded file with name : {file_name}, and length {len(data_upload[file_name])} bytes\")"
      ],
      "execution_count": null,
      "outputs": [
        {
          "output_type": "display_data",
          "data": {
            "text/html": [
              "\n",
              "     <input type=\"file\" id=\"files-98e057be-f11a-44ae-93cb-2fc851c0889c\" name=\"files[]\" multiple disabled\n",
              "        style=\"border:none\" />\n",
              "     <output id=\"result-98e057be-f11a-44ae-93cb-2fc851c0889c\">\n",
              "      Upload widget is only available when the cell has been executed in the\n",
              "      current browser session. Please rerun this cell to enable.\n",
              "      </output>\n",
              "      <script src=\"/nbextensions/google.colab/files.js\"></script> "
            ],
            "text/plain": [
              "<IPython.core.display.HTML object>"
            ]
          },
          "metadata": {
            "tags": []
          }
        },
        {
          "output_type": "stream",
          "text": [
            "Saving test.csv to test.csv\n",
            "Saving Train.csv to Train.csv\n",
            " successfully uploaded file with name : test.csv, and length 5095968 bytes\n",
            " successfully uploaded file with name : Train.csv, and length 15641512 bytes\n"
          ],
          "name": "stdout"
        }
      ]
    },
    {
      "cell_type": "code",
      "metadata": {
        "colab": {
          "base_uri": "https://localhost:8080/"
        },
        "id": "CqMfmLgDHOMS",
        "outputId": "58485945-2c4e-4692-9871-4ad7fd8099cb"
      },
      "source": [
        "for file_name in data_upload.keys():\n",
        "  print(\"File uploading successful ! file name : {name}, and file size : {size} bytes\".format(name=file_name,size=len(data_upload[file_name])))\n",
        "print(\"Reading training dataset\")\n",
        "train_df = pd.read_csv('Train.csv') #reading training data\n",
        "print(\"Reading training dataset complete\")"
      ],
      "execution_count": null,
      "outputs": [
        {
          "output_type": "stream",
          "text": [
            "File uploading successful ! file name : test.csv, and file size : 5095968 bytes\n",
            "File uploading successful ! file name : Train.csv, and file size : 15641512 bytes\n",
            "Reading training dataset\n",
            "Reading training dataset complete\n"
          ],
          "name": "stdout"
        }
      ]
    },
    {
      "cell_type": "code",
      "metadata": {
        "id": "S-etRKxROwLJ"
      },
      "source": [
        "train_df = pd.read_csv(\"/content/Train.csv\")\n",
        "test_df = pd.read_csv(\"/content/test.csv\")"
      ],
      "execution_count": null,
      "outputs": []
    },
    {
      "cell_type": "markdown",
      "metadata": {
        "id": "JWR5aN-GJgJM"
      },
      "source": [
        "#Explore, Visualize, Pre-process"
      ]
    },
    {
      "cell_type": "code",
      "metadata": {
        "colab": {
          "base_uri": "https://localhost:8080/",
          "height": 774
        },
        "id": "SCSSDQiGJLBx",
        "outputId": "591fdf4c-359b-4eaf-8902-c8c716392208"
      },
      "source": [
        "display(train_df)"
      ],
      "execution_count": null,
      "outputs": [
        {
          "output_type": "display_data",
          "data": {
            "text/html": [
              "<div>\n",
              "<style scoped>\n",
              "    .dataframe tbody tr th:only-of-type {\n",
              "        vertical-align: middle;\n",
              "    }\n",
              "\n",
              "    .dataframe tbody tr th {\n",
              "        vertical-align: top;\n",
              "    }\n",
              "\n",
              "    .dataframe thead th {\n",
              "        text-align: right;\n",
              "    }\n",
              "</style>\n",
              "<table border=\"1\" class=\"dataframe\">\n",
              "  <thead>\n",
              "    <tr style=\"text-align: right;\">\n",
              "      <th></th>\n",
              "      <th>id</th>\n",
              "      <th>amount_tsh</th>\n",
              "      <th>date_recorded</th>\n",
              "      <th>funder</th>\n",
              "      <th>gps_height</th>\n",
              "      <th>installer</th>\n",
              "      <th>longitude</th>\n",
              "      <th>latitude</th>\n",
              "      <th>wpt_name</th>\n",
              "      <th>num_private</th>\n",
              "      <th>basin</th>\n",
              "      <th>subvillage</th>\n",
              "      <th>region</th>\n",
              "      <th>region_code</th>\n",
              "      <th>district_code</th>\n",
              "      <th>lga</th>\n",
              "      <th>ward</th>\n",
              "      <th>population</th>\n",
              "      <th>public_meeting</th>\n",
              "      <th>recorded_by</th>\n",
              "      <th>scheme_management</th>\n",
              "      <th>scheme_name</th>\n",
              "      <th>permit</th>\n",
              "      <th>construction_year</th>\n",
              "      <th>extraction_type</th>\n",
              "      <th>extraction_type_group</th>\n",
              "      <th>extraction_type_class</th>\n",
              "      <th>management</th>\n",
              "      <th>management_group</th>\n",
              "      <th>payment</th>\n",
              "      <th>payment_type</th>\n",
              "      <th>water_quality</th>\n",
              "      <th>quality_group</th>\n",
              "      <th>quantity</th>\n",
              "      <th>quantity_group</th>\n",
              "      <th>source</th>\n",
              "      <th>source_type</th>\n",
              "      <th>source_class</th>\n",
              "      <th>waterpoint_type</th>\n",
              "      <th>waterpoint_type_group</th>\n",
              "      <th>status_group</th>\n",
              "    </tr>\n",
              "  </thead>\n",
              "  <tbody>\n",
              "    <tr>\n",
              "      <th>0</th>\n",
              "      <td>7411</td>\n",
              "      <td>7.0</td>\n",
              "      <td>2013-03-20</td>\n",
              "      <td>Germany Republi</td>\n",
              "      <td>1203</td>\n",
              "      <td>CES</td>\n",
              "      <td>37.228664</td>\n",
              "      <td>-3.256505</td>\n",
              "      <td>Kwa Abdalla</td>\n",
              "      <td>0</td>\n",
              "      <td>Pangani</td>\n",
              "      <td>Mafurini</td>\n",
              "      <td>Kilimanjaro</td>\n",
              "      <td>3</td>\n",
              "      <td>5</td>\n",
              "      <td>Hai</td>\n",
              "      <td>Machame Kaskazini</td>\n",
              "      <td>90</td>\n",
              "      <td>True</td>\n",
              "      <td>GeoData Consultants Ltd</td>\n",
              "      <td>Water Board</td>\n",
              "      <td>Machame water supply</td>\n",
              "      <td>True</td>\n",
              "      <td>2008</td>\n",
              "      <td>gravity</td>\n",
              "      <td>gravity</td>\n",
              "      <td>gravity</td>\n",
              "      <td>water board</td>\n",
              "      <td>user-group</td>\n",
              "      <td>pay per bucket</td>\n",
              "      <td>per bucket</td>\n",
              "      <td>soft</td>\n",
              "      <td>good</td>\n",
              "      <td>enough</td>\n",
              "      <td>enough</td>\n",
              "      <td>spring</td>\n",
              "      <td>spring</td>\n",
              "      <td>groundwater</td>\n",
              "      <td>communal standpipe</td>\n",
              "      <td>communal standpipe</td>\n",
              "      <td>functional</td>\n",
              "    </tr>\n",
              "    <tr>\n",
              "      <th>1</th>\n",
              "      <td>18014</td>\n",
              "      <td>0.0</td>\n",
              "      <td>2011-02-21</td>\n",
              "      <td>Cdtf</td>\n",
              "      <td>1409</td>\n",
              "      <td>CDTF</td>\n",
              "      <td>34.615481</td>\n",
              "      <td>-9.972601</td>\n",
              "      <td>none</td>\n",
              "      <td>0</td>\n",
              "      <td>Lake Nyasa</td>\n",
              "      <td>Ituni</td>\n",
              "      <td>Iringa</td>\n",
              "      <td>11</td>\n",
              "      <td>5</td>\n",
              "      <td>Ludewa</td>\n",
              "      <td>Luana</td>\n",
              "      <td>70</td>\n",
              "      <td>False</td>\n",
              "      <td>GeoData Consultants Ltd</td>\n",
              "      <td>Private operator</td>\n",
              "      <td>Mgowel</td>\n",
              "      <td>False</td>\n",
              "      <td>1984</td>\n",
              "      <td>gravity</td>\n",
              "      <td>gravity</td>\n",
              "      <td>gravity</td>\n",
              "      <td>private operator</td>\n",
              "      <td>commercial</td>\n",
              "      <td>never pay</td>\n",
              "      <td>never pay</td>\n",
              "      <td>soft</td>\n",
              "      <td>good</td>\n",
              "      <td>enough</td>\n",
              "      <td>enough</td>\n",
              "      <td>spring</td>\n",
              "      <td>spring</td>\n",
              "      <td>groundwater</td>\n",
              "      <td>communal standpipe</td>\n",
              "      <td>communal standpipe</td>\n",
              "      <td>functional</td>\n",
              "    </tr>\n",
              "    <tr>\n",
              "      <th>2</th>\n",
              "      <td>26103</td>\n",
              "      <td>0.0</td>\n",
              "      <td>2013-01-04</td>\n",
              "      <td>Government Of Tanzania</td>\n",
              "      <td>1572</td>\n",
              "      <td>DWE</td>\n",
              "      <td>36.658778</td>\n",
              "      <td>-3.321529</td>\n",
              "      <td>Kwa Loishiye</td>\n",
              "      <td>0</td>\n",
              "      <td>Pangani</td>\n",
              "      <td>Melebuki</td>\n",
              "      <td>Arusha</td>\n",
              "      <td>2</td>\n",
              "      <td>2</td>\n",
              "      <td>Arusha Rural</td>\n",
              "      <td>Kimnyaki</td>\n",
              "      <td>150</td>\n",
              "      <td>True</td>\n",
              "      <td>GeoData Consultants Ltd</td>\n",
              "      <td>VWC</td>\n",
              "      <td>Saitero olosaita pipe line</td>\n",
              "      <td>True</td>\n",
              "      <td>2002</td>\n",
              "      <td>gravity</td>\n",
              "      <td>gravity</td>\n",
              "      <td>gravity</td>\n",
              "      <td>vwc</td>\n",
              "      <td>user-group</td>\n",
              "      <td>never pay</td>\n",
              "      <td>never pay</td>\n",
              "      <td>soft</td>\n",
              "      <td>good</td>\n",
              "      <td>insufficient</td>\n",
              "      <td>insufficient</td>\n",
              "      <td>spring</td>\n",
              "      <td>spring</td>\n",
              "      <td>groundwater</td>\n",
              "      <td>communal standpipe</td>\n",
              "      <td>communal standpipe</td>\n",
              "      <td>non functional</td>\n",
              "    </tr>\n",
              "    <tr>\n",
              "      <th>3</th>\n",
              "      <td>31140</td>\n",
              "      <td>0.0</td>\n",
              "      <td>2011-04-03</td>\n",
              "      <td>District Council</td>\n",
              "      <td>0</td>\n",
              "      <td>District Council</td>\n",
              "      <td>33.628025</td>\n",
              "      <td>-8.860795</td>\n",
              "      <td>Mwanzechele</td>\n",
              "      <td>0</td>\n",
              "      <td>Rufiji</td>\n",
              "      <td>Darajani</td>\n",
              "      <td>Mbeya</td>\n",
              "      <td>12</td>\n",
              "      <td>2</td>\n",
              "      <td>Mbeya Rural</td>\n",
              "      <td>Inyala</td>\n",
              "      <td>0</td>\n",
              "      <td>True</td>\n",
              "      <td>GeoData Consultants Ltd</td>\n",
              "      <td>VWC</td>\n",
              "      <td>NaN</td>\n",
              "      <td>True</td>\n",
              "      <td>0</td>\n",
              "      <td>gravity</td>\n",
              "      <td>gravity</td>\n",
              "      <td>gravity</td>\n",
              "      <td>wug</td>\n",
              "      <td>user-group</td>\n",
              "      <td>pay annually</td>\n",
              "      <td>annually</td>\n",
              "      <td>soft</td>\n",
              "      <td>good</td>\n",
              "      <td>insufficient</td>\n",
              "      <td>insufficient</td>\n",
              "      <td>river</td>\n",
              "      <td>river/lake</td>\n",
              "      <td>surface</td>\n",
              "      <td>communal standpipe</td>\n",
              "      <td>communal standpipe</td>\n",
              "      <td>functional</td>\n",
              "    </tr>\n",
              "    <tr>\n",
              "      <th>4</th>\n",
              "      <td>12286</td>\n",
              "      <td>300.0</td>\n",
              "      <td>2013-03-08</td>\n",
              "      <td>District Council</td>\n",
              "      <td>1283</td>\n",
              "      <td>District Council</td>\n",
              "      <td>37.655509</td>\n",
              "      <td>-3.669777</td>\n",
              "      <td>Kwa Kidaya</td>\n",
              "      <td>0</td>\n",
              "      <td>Pangani</td>\n",
              "      <td>Mwira A</td>\n",
              "      <td>Kilimanjaro</td>\n",
              "      <td>3</td>\n",
              "      <td>2</td>\n",
              "      <td>Mwanga</td>\n",
              "      <td>Shinghatini</td>\n",
              "      <td>34</td>\n",
              "      <td>True</td>\n",
              "      <td>GeoData Consultants Ltd</td>\n",
              "      <td>VWC</td>\n",
              "      <td>Churu water supply</td>\n",
              "      <td>False</td>\n",
              "      <td>2007</td>\n",
              "      <td>gravity</td>\n",
              "      <td>gravity</td>\n",
              "      <td>gravity</td>\n",
              "      <td>vwc</td>\n",
              "      <td>user-group</td>\n",
              "      <td>pay monthly</td>\n",
              "      <td>monthly</td>\n",
              "      <td>soft</td>\n",
              "      <td>good</td>\n",
              "      <td>insufficient</td>\n",
              "      <td>insufficient</td>\n",
              "      <td>spring</td>\n",
              "      <td>spring</td>\n",
              "      <td>groundwater</td>\n",
              "      <td>communal standpipe</td>\n",
              "      <td>communal standpipe</td>\n",
              "      <td>functional</td>\n",
              "    </tr>\n",
              "    <tr>\n",
              "      <th>...</th>\n",
              "      <td>...</td>\n",
              "      <td>...</td>\n",
              "      <td>...</td>\n",
              "      <td>...</td>\n",
              "      <td>...</td>\n",
              "      <td>...</td>\n",
              "      <td>...</td>\n",
              "      <td>...</td>\n",
              "      <td>...</td>\n",
              "      <td>...</td>\n",
              "      <td>...</td>\n",
              "      <td>...</td>\n",
              "      <td>...</td>\n",
              "      <td>...</td>\n",
              "      <td>...</td>\n",
              "      <td>...</td>\n",
              "      <td>...</td>\n",
              "      <td>...</td>\n",
              "      <td>...</td>\n",
              "      <td>...</td>\n",
              "      <td>...</td>\n",
              "      <td>...</td>\n",
              "      <td>...</td>\n",
              "      <td>...</td>\n",
              "      <td>...</td>\n",
              "      <td>...</td>\n",
              "      <td>...</td>\n",
              "      <td>...</td>\n",
              "      <td>...</td>\n",
              "      <td>...</td>\n",
              "      <td>...</td>\n",
              "      <td>...</td>\n",
              "      <td>...</td>\n",
              "      <td>...</td>\n",
              "      <td>...</td>\n",
              "      <td>...</td>\n",
              "      <td>...</td>\n",
              "      <td>...</td>\n",
              "      <td>...</td>\n",
              "      <td>...</td>\n",
              "      <td>...</td>\n",
              "    </tr>\n",
              "    <tr>\n",
              "      <th>44545</th>\n",
              "      <td>43878</td>\n",
              "      <td>0.0</td>\n",
              "      <td>2013-01-23</td>\n",
              "      <td>World Vision</td>\n",
              "      <td>0</td>\n",
              "      <td>TAWASA</td>\n",
              "      <td>32.383715</td>\n",
              "      <td>-3.457624</td>\n",
              "      <td>Imalabuluhi</td>\n",
              "      <td>0</td>\n",
              "      <td>Lake Tanganyika</td>\n",
              "      <td>Bukenge</td>\n",
              "      <td>Shinyanga</td>\n",
              "      <td>17</td>\n",
              "      <td>3</td>\n",
              "      <td>Kahama</td>\n",
              "      <td>Segese</td>\n",
              "      <td>0</td>\n",
              "      <td>True</td>\n",
              "      <td>GeoData Consultants Ltd</td>\n",
              "      <td>NaN</td>\n",
              "      <td>NaN</td>\n",
              "      <td>True</td>\n",
              "      <td>0</td>\n",
              "      <td>nira/tanira</td>\n",
              "      <td>nira/tanira</td>\n",
              "      <td>handpump</td>\n",
              "      <td>wug</td>\n",
              "      <td>user-group</td>\n",
              "      <td>unknown</td>\n",
              "      <td>unknown</td>\n",
              "      <td>milky</td>\n",
              "      <td>milky</td>\n",
              "      <td>enough</td>\n",
              "      <td>enough</td>\n",
              "      <td>shallow well</td>\n",
              "      <td>shallow well</td>\n",
              "      <td>groundwater</td>\n",
              "      <td>hand pump</td>\n",
              "      <td>hand pump</td>\n",
              "      <td>functional</td>\n",
              "    </tr>\n",
              "    <tr>\n",
              "      <th>44546</th>\n",
              "      <td>50718</td>\n",
              "      <td>0.0</td>\n",
              "      <td>2011-07-25</td>\n",
              "      <td>Ded</td>\n",
              "      <td>0</td>\n",
              "      <td>DED</td>\n",
              "      <td>31.615509</td>\n",
              "      <td>-2.738682</td>\n",
              "      <td>Ilyamchele Center</td>\n",
              "      <td>0</td>\n",
              "      <td>Lake Victoria</td>\n",
              "      <td>Ilyamchele Center</td>\n",
              "      <td>Kagera</td>\n",
              "      <td>18</td>\n",
              "      <td>8</td>\n",
              "      <td>Chato</td>\n",
              "      <td>Katende</td>\n",
              "      <td>0</td>\n",
              "      <td>True</td>\n",
              "      <td>GeoData Consultants Ltd</td>\n",
              "      <td>WUA</td>\n",
              "      <td>NaN</td>\n",
              "      <td>True</td>\n",
              "      <td>0</td>\n",
              "      <td>afridev</td>\n",
              "      <td>afridev</td>\n",
              "      <td>handpump</td>\n",
              "      <td>wua</td>\n",
              "      <td>user-group</td>\n",
              "      <td>pay monthly</td>\n",
              "      <td>monthly</td>\n",
              "      <td>soft</td>\n",
              "      <td>good</td>\n",
              "      <td>enough</td>\n",
              "      <td>enough</td>\n",
              "      <td>hand dtw</td>\n",
              "      <td>borehole</td>\n",
              "      <td>groundwater</td>\n",
              "      <td>hand pump</td>\n",
              "      <td>hand pump</td>\n",
              "      <td>non functional</td>\n",
              "    </tr>\n",
              "    <tr>\n",
              "      <th>44547</th>\n",
              "      <td>67177</td>\n",
              "      <td>0.0</td>\n",
              "      <td>2013-02-23</td>\n",
              "      <td>Government Of Tanzania</td>\n",
              "      <td>969</td>\n",
              "      <td>Government</td>\n",
              "      <td>35.134412</td>\n",
              "      <td>-10.676062</td>\n",
              "      <td>Kwa Mzee Maondo</td>\n",
              "      <td>0</td>\n",
              "      <td>Ruvuma / Southern Coast</td>\n",
              "      <td>Masango</td>\n",
              "      <td>Ruvuma</td>\n",
              "      <td>10</td>\n",
              "      <td>3</td>\n",
              "      <td>Mbinga</td>\n",
              "      <td>Kigonsera</td>\n",
              "      <td>60</td>\n",
              "      <td>NaN</td>\n",
              "      <td>GeoData Consultants Ltd</td>\n",
              "      <td>VWC</td>\n",
              "      <td>Government</td>\n",
              "      <td>NaN</td>\n",
              "      <td>1977</td>\n",
              "      <td>gravity</td>\n",
              "      <td>gravity</td>\n",
              "      <td>gravity</td>\n",
              "      <td>vwc</td>\n",
              "      <td>user-group</td>\n",
              "      <td>unknown</td>\n",
              "      <td>unknown</td>\n",
              "      <td>soft</td>\n",
              "      <td>good</td>\n",
              "      <td>seasonal</td>\n",
              "      <td>seasonal</td>\n",
              "      <td>spring</td>\n",
              "      <td>spring</td>\n",
              "      <td>groundwater</td>\n",
              "      <td>communal standpipe</td>\n",
              "      <td>communal standpipe</td>\n",
              "      <td>functional</td>\n",
              "    </tr>\n",
              "    <tr>\n",
              "      <th>44548</th>\n",
              "      <td>2744</td>\n",
              "      <td>200.0</td>\n",
              "      <td>2013-03-26</td>\n",
              "      <td>Adra</td>\n",
              "      <td>1269</td>\n",
              "      <td>ADRA/Government</td>\n",
              "      <td>37.886287</td>\n",
              "      <td>-4.390882</td>\n",
              "      <td>Miembeni</td>\n",
              "      <td>0</td>\n",
              "      <td>Pangani</td>\n",
              "      <td>Mng'Ende</td>\n",
              "      <td>Kilimanjaro</td>\n",
              "      <td>3</td>\n",
              "      <td>3</td>\n",
              "      <td>Same</td>\n",
              "      <td>Suji</td>\n",
              "      <td>80</td>\n",
              "      <td>True</td>\n",
              "      <td>GeoData Consultants Ltd</td>\n",
              "      <td>Water authority</td>\n",
              "      <td>Kiumba water supply</td>\n",
              "      <td>True</td>\n",
              "      <td>2011</td>\n",
              "      <td>gravity</td>\n",
              "      <td>gravity</td>\n",
              "      <td>gravity</td>\n",
              "      <td>vwc</td>\n",
              "      <td>user-group</td>\n",
              "      <td>pay monthly</td>\n",
              "      <td>monthly</td>\n",
              "      <td>soft</td>\n",
              "      <td>good</td>\n",
              "      <td>insufficient</td>\n",
              "      <td>insufficient</td>\n",
              "      <td>spring</td>\n",
              "      <td>spring</td>\n",
              "      <td>groundwater</td>\n",
              "      <td>communal standpipe</td>\n",
              "      <td>communal standpipe</td>\n",
              "      <td>functional</td>\n",
              "    </tr>\n",
              "    <tr>\n",
              "      <th>44549</th>\n",
              "      <td>10262</td>\n",
              "      <td>0.0</td>\n",
              "      <td>2013-01-26</td>\n",
              "      <td>World Vision</td>\n",
              "      <td>0</td>\n",
              "      <td>Consulting Engineer</td>\n",
              "      <td>32.976560</td>\n",
              "      <td>-4.262149</td>\n",
              "      <td>Itunda A Mkwajuni</td>\n",
              "      <td>0</td>\n",
              "      <td>Lake Tanganyika</td>\n",
              "      <td>Itunda A</td>\n",
              "      <td>Tabora</td>\n",
              "      <td>14</td>\n",
              "      <td>1</td>\n",
              "      <td>Nzega</td>\n",
              "      <td>Karitu</td>\n",
              "      <td>0</td>\n",
              "      <td>True</td>\n",
              "      <td>GeoData Consultants Ltd</td>\n",
              "      <td>VWC</td>\n",
              "      <td>NaN</td>\n",
              "      <td>False</td>\n",
              "      <td>0</td>\n",
              "      <td>nira/tanira</td>\n",
              "      <td>nira/tanira</td>\n",
              "      <td>handpump</td>\n",
              "      <td>vwc</td>\n",
              "      <td>user-group</td>\n",
              "      <td>pay when scheme fails</td>\n",
              "      <td>on failure</td>\n",
              "      <td>soft</td>\n",
              "      <td>good</td>\n",
              "      <td>enough</td>\n",
              "      <td>enough</td>\n",
              "      <td>shallow well</td>\n",
              "      <td>shallow well</td>\n",
              "      <td>groundwater</td>\n",
              "      <td>hand pump</td>\n",
              "      <td>hand pump</td>\n",
              "      <td>functional</td>\n",
              "    </tr>\n",
              "  </tbody>\n",
              "</table>\n",
              "<p>44550 rows × 41 columns</p>\n",
              "</div>"
            ],
            "text/plain": [
              "          id  amount_tsh  ... waterpoint_type_group    status_group\n",
              "0       7411         7.0  ...    communal standpipe      functional\n",
              "1      18014         0.0  ...    communal standpipe      functional\n",
              "2      26103         0.0  ...    communal standpipe  non functional\n",
              "3      31140         0.0  ...    communal standpipe      functional\n",
              "4      12286       300.0  ...    communal standpipe      functional\n",
              "...      ...         ...  ...                   ...             ...\n",
              "44545  43878         0.0  ...             hand pump      functional\n",
              "44546  50718         0.0  ...             hand pump  non functional\n",
              "44547  67177         0.0  ...    communal standpipe      functional\n",
              "44548   2744       200.0  ...    communal standpipe      functional\n",
              "44549  10262         0.0  ...             hand pump      functional\n",
              "\n",
              "[44550 rows x 41 columns]"
            ]
          },
          "metadata": {
            "tags": []
          }
        }
      ]
    },
    {
      "cell_type": "markdown",
      "metadata": {
        "id": "T-ysRojCJyzE"
      },
      "source": [
        "$\\textbf{There are 44550 samples and 41 columns in the training dataset.}$"
      ]
    },
    {
      "cell_type": "code",
      "metadata": {
        "colab": {
          "base_uri": "https://localhost:8080/"
        },
        "id": "pRv4123FJsPR",
        "outputId": "b62212c0-6121-4e1a-bc9e-39faac6d8957"
      },
      "source": [
        "train_df.info()"
      ],
      "execution_count": null,
      "outputs": [
        {
          "output_type": "stream",
          "text": [
            "<class 'pandas.core.frame.DataFrame'>\n",
            "RangeIndex: 44550 entries, 0 to 44549\n",
            "Data columns (total 41 columns):\n",
            " #   Column                 Non-Null Count  Dtype  \n",
            "---  ------                 --------------  -----  \n",
            " 0   id                     44550 non-null  int64  \n",
            " 1   amount_tsh             44550 non-null  float64\n",
            " 2   date_recorded          44550 non-null  object \n",
            " 3   funder                 41757 non-null  object \n",
            " 4   gps_height             44550 non-null  int64  \n",
            " 5   installer              41743 non-null  object \n",
            " 6   longitude              44550 non-null  float64\n",
            " 7   latitude               44550 non-null  float64\n",
            " 8   wpt_name               44550 non-null  object \n",
            " 9   num_private            44550 non-null  int64  \n",
            " 10  basin                  44550 non-null  object \n",
            " 11  subvillage             44263 non-null  object \n",
            " 12  region                 44550 non-null  object \n",
            " 13  region_code            44550 non-null  int64  \n",
            " 14  district_code          44550 non-null  int64  \n",
            " 15  lga                    44550 non-null  object \n",
            " 16  ward                   44550 non-null  object \n",
            " 17  population             44550 non-null  int64  \n",
            " 18  public_meeting         42059 non-null  object \n",
            " 19  recorded_by            44550 non-null  object \n",
            " 20  scheme_management      41718 non-null  object \n",
            " 21  scheme_name            23440 non-null  object \n",
            " 22  permit                 42214 non-null  object \n",
            " 23  construction_year      44550 non-null  int64  \n",
            " 24  extraction_type        44550 non-null  object \n",
            " 25  extraction_type_group  44550 non-null  object \n",
            " 26  extraction_type_class  44550 non-null  object \n",
            " 27  management             44550 non-null  object \n",
            " 28  management_group       44550 non-null  object \n",
            " 29  payment                44550 non-null  object \n",
            " 30  payment_type           44550 non-null  object \n",
            " 31  water_quality          44550 non-null  object \n",
            " 32  quality_group          44550 non-null  object \n",
            " 33  quantity               44550 non-null  object \n",
            " 34  quantity_group         44550 non-null  object \n",
            " 35  source                 44550 non-null  object \n",
            " 36  source_type            44550 non-null  object \n",
            " 37  source_class           44550 non-null  object \n",
            " 38  waterpoint_type        44550 non-null  object \n",
            " 39  waterpoint_type_group  44550 non-null  object \n",
            " 40  status_group           44550 non-null  object \n",
            "dtypes: float64(3), int64(7), object(31)\n",
            "memory usage: 13.9+ MB\n"
          ],
          "name": "stdout"
        }
      ]
    },
    {
      "cell_type": "code",
      "metadata": {
        "colab": {
          "base_uri": "https://localhost:8080/"
        },
        "id": "jnEoyMFlKAFf",
        "outputId": "5a8e03a9-9701-45ac-d1c7-913c91a5304a"
      },
      "source": [
        "print(pd.unique(train_df.dtypes))"
      ],
      "execution_count": null,
      "outputs": [
        {
          "output_type": "stream",
          "text": [
            "[dtype('int64') dtype('float64') dtype('O')]\n"
          ],
          "name": "stdout"
        }
      ]
    },
    {
      "cell_type": "markdown",
      "metadata": {
        "id": "LgLgg2naLQDv"
      },
      "source": [
        "$\\textbf{The dataset contains samples with 3 types of data ; namely integer(discrete) , float (continuous), text (string/object)}$"
      ]
    },
    {
      "cell_type": "code",
      "metadata": {
        "colab": {
          "base_uri": "https://localhost:8080/"
        },
        "id": "V4VHlDFKKPe3",
        "outputId": "3d9df88a-578d-4e75-bd83-28f1204c1303"
      },
      "source": [
        "print(f\"Number of columns containing integer data : {sum(train_df.dtypes == 'int64')}\")\n",
        "print(f\"Number of columns containing continuous/float data : {sum(train_df.dtypes == 'float64')}\")\n",
        "print(f\"Number of columns containing object/string data : {sum(train_df.dtypes == 'O')}\")"
      ],
      "execution_count": null,
      "outputs": [
        {
          "output_type": "stream",
          "text": [
            "Number of columns containing integer data : 7\n",
            "Number of columns containing continuous/float data : 3\n",
            "Number of columns containing object/string data : 31\n"
          ],
          "name": "stdout"
        }
      ]
    },
    {
      "cell_type": "markdown",
      "metadata": {
        "id": "jpmOoU8OLyWX"
      },
      "source": [
        "$\\textbf{most data is of object type and very few float data available.}$"
      ]
    },
    {
      "cell_type": "code",
      "metadata": {
        "colab": {
          "base_uri": "https://localhost:8080/"
        },
        "id": "OummayDJLMto",
        "outputId": "0d2319cc-f21d-4915-a720-fd3c123e32c3"
      },
      "source": [
        "for col in train_df.columns.values :\n",
        "    vals = pd.unique(train_df[col])\n",
        "    print(col + '  has ' + '\\033[1m' + str(len(vals)) + '\\033[0m' +\"  unique values and  \" + '\\033[1m' + str(train_df[col].isnull().sum()) + '\\033[0m' + \"  Null values\")\n",
        "    if len(vals) < 10 :\n",
        "      list_str = ''\n",
        "      for value in range(0,len(vals)) :\n",
        "        list_str = list_str + str(vals[value]) + ', '\n",
        "      print('these are : ' + list_str[0:len(list_str)-2])\n",
        "    if train_df[col].isnull().sum() >= 0.40*len(train_df[col]) :\n",
        "      print('\\033[1m' + col  + \" has more than 40% null values\")\n"
      ],
      "execution_count": null,
      "outputs": [
        {
          "output_type": "stream",
          "text": [
            "id  has \u001b[1m44550\u001b[0m  unique values and  \u001b[1m0\u001b[0m  Null values\n",
            "amount_tsh  has \u001b[1m85\u001b[0m  unique values and  \u001b[1m0\u001b[0m  Null values\n",
            "date_recorded  has \u001b[1m346\u001b[0m  unique values and  \u001b[1m0\u001b[0m  Null values\n",
            "funder  has \u001b[1m1652\u001b[0m  unique values and  \u001b[1m2793\u001b[0m  Null values\n",
            "gps_height  has \u001b[1m2396\u001b[0m  unique values and  \u001b[1m0\u001b[0m  Null values\n",
            "installer  has \u001b[1m1855\u001b[0m  unique values and  \u001b[1m2807\u001b[0m  Null values\n",
            "longitude  has \u001b[1m43155\u001b[0m  unique values and  \u001b[1m0\u001b[0m  Null values\n",
            "latitude  has \u001b[1m43155\u001b[0m  unique values and  \u001b[1m0\u001b[0m  Null values\n",
            "wpt_name  has \u001b[1m28991\u001b[0m  unique values and  \u001b[1m0\u001b[0m  Null values\n",
            "num_private  has \u001b[1m59\u001b[0m  unique values and  \u001b[1m0\u001b[0m  Null values\n",
            "basin  has \u001b[1m9\u001b[0m  unique values and  \u001b[1m0\u001b[0m  Null values\n",
            "these are : Pangani, Lake Nyasa, Rufiji, Lake Tanganyika, Lake Victoria, Wami / Ruvu, Internal, Ruvuma / Southern Coast, Lake Rukwa\n",
            "subvillage  has \u001b[1m16618\u001b[0m  unique values and  \u001b[1m287\u001b[0m  Null values\n",
            "region  has \u001b[1m21\u001b[0m  unique values and  \u001b[1m0\u001b[0m  Null values\n",
            "region_code  has \u001b[1m27\u001b[0m  unique values and  \u001b[1m0\u001b[0m  Null values\n",
            "district_code  has \u001b[1m20\u001b[0m  unique values and  \u001b[1m0\u001b[0m  Null values\n",
            "lga  has \u001b[1m125\u001b[0m  unique values and  \u001b[1m0\u001b[0m  Null values\n",
            "ward  has \u001b[1m2080\u001b[0m  unique values and  \u001b[1m0\u001b[0m  Null values\n",
            "population  has \u001b[1m956\u001b[0m  unique values and  \u001b[1m0\u001b[0m  Null values\n",
            "public_meeting  has \u001b[1m3\u001b[0m  unique values and  \u001b[1m2491\u001b[0m  Null values\n",
            "these are : True, False, nan\n",
            "recorded_by  has \u001b[1m1\u001b[0m  unique values and  \u001b[1m0\u001b[0m  Null values\n",
            "these are : GeoData Consultants Ltd\n",
            "scheme_management  has \u001b[1m13\u001b[0m  unique values and  \u001b[1m2832\u001b[0m  Null values\n",
            "scheme_name  has \u001b[1m2507\u001b[0m  unique values and  \u001b[1m21110\u001b[0m  Null values\n",
            "\u001b[1mscheme_name has more than 40% null values\n",
            "permit  has \u001b[1m3\u001b[0m  unique values and  \u001b[1m2336\u001b[0m  Null values\n",
            "these are : True, False, nan\n",
            "construction_year  has \u001b[1m55\u001b[0m  unique values and  \u001b[1m0\u001b[0m  Null values\n",
            "extraction_type  has \u001b[1m18\u001b[0m  unique values and  \u001b[1m0\u001b[0m  Null values\n",
            "extraction_type_group  has \u001b[1m13\u001b[0m  unique values and  \u001b[1m0\u001b[0m  Null values\n",
            "extraction_type_class  has \u001b[1m7\u001b[0m  unique values and  \u001b[1m0\u001b[0m  Null values\n",
            "these are : gravity, handpump, motorpump, submersible, other, rope pump, wind-powered\n",
            "management  has \u001b[1m12\u001b[0m  unique values and  \u001b[1m0\u001b[0m  Null values\n",
            "management_group  has \u001b[1m5\u001b[0m  unique values and  \u001b[1m0\u001b[0m  Null values\n",
            "these are : user-group, commercial, parastatal, unknown, other\n",
            "payment  has \u001b[1m7\u001b[0m  unique values and  \u001b[1m0\u001b[0m  Null values\n",
            "these are : pay per bucket, never pay, pay annually, pay monthly, unknown, pay when scheme fails, other\n",
            "payment_type  has \u001b[1m7\u001b[0m  unique values and  \u001b[1m0\u001b[0m  Null values\n",
            "these are : per bucket, never pay, annually, monthly, unknown, on failure, other\n",
            "water_quality  has \u001b[1m8\u001b[0m  unique values and  \u001b[1m0\u001b[0m  Null values\n",
            "these are : soft, salty abandoned, unknown, salty, fluoride, milky, coloured, fluoride abandoned\n",
            "quality_group  has \u001b[1m6\u001b[0m  unique values and  \u001b[1m0\u001b[0m  Null values\n",
            "these are : good, salty, unknown, fluoride, milky, colored\n",
            "quantity  has \u001b[1m5\u001b[0m  unique values and  \u001b[1m0\u001b[0m  Null values\n",
            "these are : enough, insufficient, dry, unknown, seasonal\n",
            "quantity_group  has \u001b[1m5\u001b[0m  unique values and  \u001b[1m0\u001b[0m  Null values\n",
            "these are : enough, insufficient, dry, unknown, seasonal\n",
            "source  has \u001b[1m10\u001b[0m  unique values and  \u001b[1m0\u001b[0m  Null values\n",
            "source_type  has \u001b[1m7\u001b[0m  unique values and  \u001b[1m0\u001b[0m  Null values\n",
            "these are : spring, river/lake, shallow well, borehole, rainwater harvesting, dam, other\n",
            "source_class  has \u001b[1m3\u001b[0m  unique values and  \u001b[1m0\u001b[0m  Null values\n",
            "these are : groundwater, surface, unknown\n",
            "waterpoint_type  has \u001b[1m7\u001b[0m  unique values and  \u001b[1m0\u001b[0m  Null values\n",
            "these are : communal standpipe, hand pump, other, communal standpipe multiple, cattle trough, improved spring, dam\n",
            "waterpoint_type_group  has \u001b[1m6\u001b[0m  unique values and  \u001b[1m0\u001b[0m  Null values\n",
            "these are : communal standpipe, hand pump, other, cattle trough, improved spring, dam\n",
            "status_group  has \u001b[1m3\u001b[0m  unique values and  \u001b[1m0\u001b[0m  Null values\n",
            "these are : functional, non functional, functional needs repair\n"
          ],
          "name": "stdout"
        }
      ]
    },
    {
      "cell_type": "code",
      "metadata": {
        "colab": {
          "base_uri": "https://localhost:8080/"
        },
        "id": "dnFDvoYNWi64",
        "outputId": "1fbde424-c4a6-48e6-ea28-fbea39e64098"
      },
      "source": [
        "a = list(train_df['num_private'].values == 0)\n",
        "count = 0\n",
        "for i in range(len(a)) :\n",
        "  if a[i] == True :\n",
        "    count += 1\n",
        "\n",
        "print(\"num_private has \" + str(round(count/len(a) * 100)) + \"%  values as 0\")"
      ],
      "execution_count": null,
      "outputs": [
        {
          "output_type": "stream",
          "text": [
            "num_private has 99%  values as 0\n"
          ],
          "name": "stdout"
        }
      ]
    },
    {
      "cell_type": "markdown",
      "metadata": {
        "id": "EUh8YoBbPZOr"
      },
      "source": [
        "#observations\n",
        "\n",
        "1. id have all unique values and hence can be removed. \n",
        "\n",
        "2. status group has 3 unique values namely functional , non functional ,functional needs repair. and can be considered as target.\n",
        "\n",
        "3. recorded by has only one unique vale and can be removed.\n",
        "\n",
        "4. scheme name has more than 40 % values null .\n",
        "\n",
        "5. num private also has mostly 0 values ($\\approx 99$%) and can lead to bias in decision hence can be removed.\n",
        "\n",
        "6. extraction type , extraction type group , extraction type class has same information , hence any one can be kept.\n",
        "\n",
        "7. payment , payment type has similar data and only one can be kept.\n",
        "\n",
        "8. subvillage , region , wpt name ,lga,ward indicating same locations and considered not unique and district code and region code is also carrying same information i.e. particular location, hence any one can be kept.\n",
        "\n",
        "9. water quality and quality group are carrying same information and any one can be kept.\n",
        "\n",
        "10. Quantity and quantity group are having same information and any one can be kept.\n",
        "\n",
        "11. water point type and water point type group is carrying same information and any one can be kept.\n",
        "12. As the data they represent is similar we can keep the feature with more unique values and less missing values and drop the other.\n"
      ]
    },
    {
      "cell_type": "markdown",
      "metadata": {
        "id": "rSIUOIKq834f"
      },
      "source": [
        "#Primary feature elimination\n",
        "$\\text{based on null values , similar values, unique values}$"
      ]
    },
    {
      "cell_type": "code",
      "metadata": {
        "colab": {
          "base_uri": "https://localhost:8080/"
        },
        "id": "AzNgdHIFgU75",
        "outputId": "c5642340-4535-4617-b71d-5e0ef88f81fe"
      },
      "source": [
        "train_df.columns"
      ],
      "execution_count": null,
      "outputs": [
        {
          "output_type": "execute_result",
          "data": {
            "text/plain": [
              "Index(['id', 'amount_tsh', 'date_recorded', 'funder', 'gps_height',\n",
              "       'installer', 'longitude', 'latitude', 'wpt_name', 'num_private',\n",
              "       'basin', 'subvillage', 'region', 'region_code', 'district_code', 'lga',\n",
              "       'ward', 'population', 'public_meeting', 'recorded_by',\n",
              "       'scheme_management', 'scheme_name', 'permit', 'construction_year',\n",
              "       'extraction_type', 'extraction_type_group', 'extraction_type_class',\n",
              "       'management', 'management_group', 'payment', 'payment_type',\n",
              "       'water_quality', 'quality_group', 'quantity', 'quantity_group',\n",
              "       'source', 'source_type', 'source_class', 'waterpoint_type',\n",
              "       'waterpoint_type_group', 'status_group'],\n",
              "      dtype='object')"
            ]
          },
          "metadata": {
            "tags": []
          },
          "execution_count": 11
        }
      ]
    },
    {
      "cell_type": "code",
      "metadata": {
        "id": "UwLothm86BG9"
      },
      "source": [
        "train_df = train_df.drop(['id','wpt_name', 'num_private', 'region','lga','ward','recorded_by','extraction_type_group','extraction_type_class','management','payment','quality_group','quantity','source'],axis = 1)"
      ],
      "execution_count": null,
      "outputs": []
    },
    {
      "cell_type": "code",
      "metadata": {
        "colab": {
          "base_uri": "https://localhost:8080/",
          "height": 223
        },
        "id": "VmIH80039j48",
        "outputId": "970e9afd-81c5-47eb-aa1d-4e4d9136626c"
      },
      "source": [
        "#creating target labels #one hot code encoding\n",
        "encode = {'functional': 1 , 'non functional': 0 , 'functional needs repair': 2}\n",
        "train_df['labels'] = [encode[i] for i in train_df.status_group]\n",
        "train_df.head(3)"
      ],
      "execution_count": null,
      "outputs": [
        {
          "output_type": "execute_result",
          "data": {
            "text/html": [
              "<div>\n",
              "<style scoped>\n",
              "    .dataframe tbody tr th:only-of-type {\n",
              "        vertical-align: middle;\n",
              "    }\n",
              "\n",
              "    .dataframe tbody tr th {\n",
              "        vertical-align: top;\n",
              "    }\n",
              "\n",
              "    .dataframe thead th {\n",
              "        text-align: right;\n",
              "    }\n",
              "</style>\n",
              "<table border=\"1\" class=\"dataframe\">\n",
              "  <thead>\n",
              "    <tr style=\"text-align: right;\">\n",
              "      <th></th>\n",
              "      <th>amount_tsh</th>\n",
              "      <th>date_recorded</th>\n",
              "      <th>funder</th>\n",
              "      <th>gps_height</th>\n",
              "      <th>installer</th>\n",
              "      <th>longitude</th>\n",
              "      <th>latitude</th>\n",
              "      <th>basin</th>\n",
              "      <th>subvillage</th>\n",
              "      <th>region_code</th>\n",
              "      <th>district_code</th>\n",
              "      <th>population</th>\n",
              "      <th>public_meeting</th>\n",
              "      <th>scheme_management</th>\n",
              "      <th>scheme_name</th>\n",
              "      <th>permit</th>\n",
              "      <th>construction_year</th>\n",
              "      <th>extraction_type</th>\n",
              "      <th>management_group</th>\n",
              "      <th>payment_type</th>\n",
              "      <th>water_quality</th>\n",
              "      <th>quantity_group</th>\n",
              "      <th>source_type</th>\n",
              "      <th>source_class</th>\n",
              "      <th>waterpoint_type</th>\n",
              "      <th>waterpoint_type_group</th>\n",
              "      <th>status_group</th>\n",
              "      <th>labels</th>\n",
              "    </tr>\n",
              "  </thead>\n",
              "  <tbody>\n",
              "    <tr>\n",
              "      <th>0</th>\n",
              "      <td>7.0</td>\n",
              "      <td>2013-03-20</td>\n",
              "      <td>Germany Republi</td>\n",
              "      <td>1203</td>\n",
              "      <td>CES</td>\n",
              "      <td>37.228664</td>\n",
              "      <td>-3.256505</td>\n",
              "      <td>Pangani</td>\n",
              "      <td>Mafurini</td>\n",
              "      <td>3</td>\n",
              "      <td>5</td>\n",
              "      <td>90</td>\n",
              "      <td>True</td>\n",
              "      <td>Water Board</td>\n",
              "      <td>Machame water supply</td>\n",
              "      <td>True</td>\n",
              "      <td>2008</td>\n",
              "      <td>gravity</td>\n",
              "      <td>user-group</td>\n",
              "      <td>per bucket</td>\n",
              "      <td>soft</td>\n",
              "      <td>enough</td>\n",
              "      <td>spring</td>\n",
              "      <td>groundwater</td>\n",
              "      <td>communal standpipe</td>\n",
              "      <td>communal standpipe</td>\n",
              "      <td>functional</td>\n",
              "      <td>1</td>\n",
              "    </tr>\n",
              "    <tr>\n",
              "      <th>1</th>\n",
              "      <td>0.0</td>\n",
              "      <td>2011-02-21</td>\n",
              "      <td>Cdtf</td>\n",
              "      <td>1409</td>\n",
              "      <td>CDTF</td>\n",
              "      <td>34.615481</td>\n",
              "      <td>-9.972601</td>\n",
              "      <td>Lake Nyasa</td>\n",
              "      <td>Ituni</td>\n",
              "      <td>11</td>\n",
              "      <td>5</td>\n",
              "      <td>70</td>\n",
              "      <td>False</td>\n",
              "      <td>Private operator</td>\n",
              "      <td>Mgowel</td>\n",
              "      <td>False</td>\n",
              "      <td>1984</td>\n",
              "      <td>gravity</td>\n",
              "      <td>commercial</td>\n",
              "      <td>never pay</td>\n",
              "      <td>soft</td>\n",
              "      <td>enough</td>\n",
              "      <td>spring</td>\n",
              "      <td>groundwater</td>\n",
              "      <td>communal standpipe</td>\n",
              "      <td>communal standpipe</td>\n",
              "      <td>functional</td>\n",
              "      <td>1</td>\n",
              "    </tr>\n",
              "    <tr>\n",
              "      <th>2</th>\n",
              "      <td>0.0</td>\n",
              "      <td>2013-01-04</td>\n",
              "      <td>Government Of Tanzania</td>\n",
              "      <td>1572</td>\n",
              "      <td>DWE</td>\n",
              "      <td>36.658778</td>\n",
              "      <td>-3.321529</td>\n",
              "      <td>Pangani</td>\n",
              "      <td>Melebuki</td>\n",
              "      <td>2</td>\n",
              "      <td>2</td>\n",
              "      <td>150</td>\n",
              "      <td>True</td>\n",
              "      <td>VWC</td>\n",
              "      <td>Saitero olosaita pipe line</td>\n",
              "      <td>True</td>\n",
              "      <td>2002</td>\n",
              "      <td>gravity</td>\n",
              "      <td>user-group</td>\n",
              "      <td>never pay</td>\n",
              "      <td>soft</td>\n",
              "      <td>insufficient</td>\n",
              "      <td>spring</td>\n",
              "      <td>groundwater</td>\n",
              "      <td>communal standpipe</td>\n",
              "      <td>communal standpipe</td>\n",
              "      <td>non functional</td>\n",
              "      <td>0</td>\n",
              "    </tr>\n",
              "  </tbody>\n",
              "</table>\n",
              "</div>"
            ],
            "text/plain": [
              "   amount_tsh date_recorded  ...    status_group  labels\n",
              "0         7.0    2013-03-20  ...      functional       1\n",
              "1         0.0    2011-02-21  ...      functional       1\n",
              "2         0.0    2013-01-04  ...  non functional       0\n",
              "\n",
              "[3 rows x 28 columns]"
            ]
          },
          "metadata": {
            "tags": []
          },
          "execution_count": 13
        }
      ]
    },
    {
      "cell_type": "code",
      "metadata": {
        "colab": {
          "base_uri": "https://localhost:8080/"
        },
        "id": "uhasfAW49Mfu",
        "outputId": "45c631d5-1999-43d5-e328-4c8532e816c6"
      },
      "source": [
        "for col in train_df.columns.values :\n",
        "  print(col + '  has ' + '\\033[1m' + str(train_df[col].isnull().sum()) + '\\033[0m' + \"  Null values\")"
      ],
      "execution_count": null,
      "outputs": [
        {
          "output_type": "stream",
          "text": [
            "amount_tsh  has \u001b[1m0\u001b[0m  Null values\n",
            "date_recorded  has \u001b[1m0\u001b[0m  Null values\n",
            "funder  has \u001b[1m2793\u001b[0m  Null values\n",
            "gps_height  has \u001b[1m0\u001b[0m  Null values\n",
            "installer  has \u001b[1m2807\u001b[0m  Null values\n",
            "longitude  has \u001b[1m0\u001b[0m  Null values\n",
            "latitude  has \u001b[1m0\u001b[0m  Null values\n",
            "basin  has \u001b[1m0\u001b[0m  Null values\n",
            "subvillage  has \u001b[1m287\u001b[0m  Null values\n",
            "region_code  has \u001b[1m0\u001b[0m  Null values\n",
            "district_code  has \u001b[1m0\u001b[0m  Null values\n",
            "population  has \u001b[1m0\u001b[0m  Null values\n",
            "public_meeting  has \u001b[1m2491\u001b[0m  Null values\n",
            "scheme_management  has \u001b[1m2832\u001b[0m  Null values\n",
            "scheme_name  has \u001b[1m21110\u001b[0m  Null values\n",
            "permit  has \u001b[1m2336\u001b[0m  Null values\n",
            "construction_year  has \u001b[1m0\u001b[0m  Null values\n",
            "extraction_type  has \u001b[1m0\u001b[0m  Null values\n",
            "management_group  has \u001b[1m0\u001b[0m  Null values\n",
            "payment_type  has \u001b[1m0\u001b[0m  Null values\n",
            "water_quality  has \u001b[1m0\u001b[0m  Null values\n",
            "quantity_group  has \u001b[1m0\u001b[0m  Null values\n",
            "source_type  has \u001b[1m0\u001b[0m  Null values\n",
            "source_class  has \u001b[1m0\u001b[0m  Null values\n",
            "waterpoint_type  has \u001b[1m0\u001b[0m  Null values\n",
            "waterpoint_type_group  has \u001b[1m0\u001b[0m  Null values\n",
            "status_group  has \u001b[1m0\u001b[0m  Null values\n",
            "labels  has \u001b[1m0\u001b[0m  Null values\n"
          ],
          "name": "stdout"
        }
      ]
    },
    {
      "cell_type": "markdown",
      "metadata": {
        "id": "HfS-Y-_gCY3w"
      },
      "source": [
        "$\\text{funder, installer, subvillage ,public_meeting ,scheme_management,scheme_name,permit seems to have missing values. Handling them one at a time}$"
      ]
    },
    {
      "cell_type": "markdown",
      "metadata": {
        "id": "jF0VIduq9Z-L"
      },
      "source": [
        "#Handling null values"
      ]
    },
    {
      "cell_type": "code",
      "metadata": {
        "colab": {
          "base_uri": "https://localhost:8080/"
        },
        "id": "r51Rji309O-D",
        "outputId": "2dd4cff0-65cd-4d17-a4b7-e75d45832934"
      },
      "source": [
        "values = train_df['funder'].unique()\n",
        "print(len(values))"
      ],
      "execution_count": null,
      "outputs": [
        {
          "output_type": "stream",
          "text": [
            "1652\n"
          ],
          "name": "stdout"
        }
      ]
    },
    {
      "cell_type": "markdown",
      "metadata": {
        "id": "KxANykphEgj3"
      },
      "source": [
        "There are two many unique values to apply any encoding technique.\n",
        "Referred : https://www.analyticsvidhya.com/blog/2015/11/easy-methods-deal-categorical-variables-predictive-modeling/ \n",
        "\n",
        " and using frequency or response rate."
      ]
    },
    {
      "cell_type": "code",
      "metadata": {
        "colab": {
          "base_uri": "https://localhost:8080/"
        },
        "id": "0BtE9zf8Dy9D",
        "outputId": "dd13168e-5c2c-476b-ad4e-804849d71dc2"
      },
      "source": [
        "train_df['funder'].value_counts().head(10)"
      ],
      "execution_count": null,
      "outputs": [
        {
          "output_type": "execute_result",
          "data": {
            "text/plain": [
              "Government Of Tanzania    6780\n",
              "Danida                    2362\n",
              "Hesawa                    1639\n",
              "Rwssp                     1032\n",
              "Kkkt                       964\n",
              "World Bank                 962\n",
              "World Vision               924\n",
              "Unicef                     808\n",
              "Tasaf                      665\n",
              "District Council           655\n",
              "Name: funder, dtype: int64"
            ]
          },
          "metadata": {
            "tags": []
          },
          "execution_count": 16
        }
      ]
    },
    {
      "cell_type": "markdown",
      "metadata": {
        "id": "xrpk_uaBGyYl"
      },
      "source": [
        "So from above the frequency goes on decreasing as we move forward in list.Lets keep some first 10 high frequent observations and encode others as others."
      ]
    },
    {
      "cell_type": "code",
      "metadata": {
        "id": "qyAYhgvuJass"
      },
      "source": [
        "def encode_funder(data):  \n",
        "    if data['funder']== 'Government Of Tanzania':\n",
        "        return 'Government Of Tanzania'\n",
        "    elif data['funder']=='Danida':\n",
        "        return 'Danida'\n",
        "    elif data['funder']=='Hesawa':\n",
        "        return 'Hesawa'\n",
        "    elif data['funder']=='Rwssp':\n",
        "        return 'Rwssp'\n",
        "    elif data['funder']=='World Bank':\n",
        "        return 'World_bank'    \n",
        "    elif data['funder']=='Kkkt':\n",
        "        return 'Kkkt'\n",
        "    elif data['funder']=='World Vision':\n",
        "        return 'World Vision'\n",
        "    elif data['funder']=='Unicef':\n",
        "        return 'Unicef'\n",
        "    elif data['funder']=='Tasaf':\n",
        "        return 'Tasaf'\n",
        "    elif data['funder']=='District Council':\n",
        "        return 'District Council'\n",
        "    else:\n",
        "        return 'Other'\n",
        "\n",
        "train_df['funder'] = train_df.apply(lambda data : encode_funder(data), axis=1)\n"
      ],
      "execution_count": null,
      "outputs": []
    },
    {
      "cell_type": "code",
      "metadata": {
        "colab": {
          "base_uri": "https://localhost:8080/"
        },
        "id": "pldUhgCYLvs3",
        "outputId": "9112abf0-f7e8-4ff5-f205-0ce6da798ffa"
      },
      "source": [
        "sum(train_df['funder'].isnull())"
      ],
      "execution_count": null,
      "outputs": [
        {
          "output_type": "execute_result",
          "data": {
            "text/plain": [
              "0"
            ]
          },
          "metadata": {
            "tags": []
          },
          "execution_count": 18
        }
      ]
    },
    {
      "cell_type": "markdown",
      "metadata": {
        "id": "Q3uBs_qcPYMd"
      },
      "source": [
        "Similarly for installer"
      ]
    },
    {
      "cell_type": "code",
      "metadata": {
        "colab": {
          "base_uri": "https://localhost:8080/"
        },
        "id": "Q67EdKQ5Lm1c",
        "outputId": "f77754fa-820c-4472-8b43-fa0e5386c12d"
      },
      "source": [
        "train_df.installer.value_counts().head(11)"
      ],
      "execution_count": null,
      "outputs": [
        {
          "output_type": "execute_result",
          "data": {
            "text/plain": [
              "DWE                   13005\n",
              "Government             1365\n",
              "RWE                     876\n",
              "Commu                   806\n",
              "DANIDA                  788\n",
              "KKKT                    681\n",
              "Hesawa                  622\n",
              "0                       572\n",
              "TCRS                    537\n",
              "Central government      504\n",
              "CES                     471\n",
              "Name: installer, dtype: int64"
            ]
          },
          "metadata": {
            "tags": []
          },
          "execution_count": 19
        }
      ]
    },
    {
      "cell_type": "code",
      "metadata": {
        "id": "kGQFyTBlPdz5"
      },
      "source": [
        "def encode_installer(data):  \n",
        "    if data['installer']== 'DWE':\n",
        "        return 'DWE'\n",
        "    elif data['installer']=='Government ':\n",
        "        return 'Government '\n",
        "    elif data['installer']=='RWE':\n",
        "        return 'RWE'\n",
        "    elif data['installer']=='Commu':\n",
        "        return 'Commu'    \n",
        "    elif data['installer']=='DANIDA' :\n",
        "        return 'DANIDA'\n",
        "    elif data['installer']=='KKKT':\n",
        "        return 'KKKT'\n",
        "    elif data['installer']=='TCRS':\n",
        "        return 'TCRS'\n",
        "    elif data['installer']=='Tasaf':\n",
        "        return 'Tasaf'\n",
        "    elif data['installer']=='Central government':\n",
        "        return 'Central government'\n",
        "    elif data['installer']=='CES':\n",
        "        return 'CES'\n",
        "    else:\n",
        "        return 'Other'"
      ],
      "execution_count": null,
      "outputs": []
    },
    {
      "cell_type": "code",
      "metadata": {
        "id": "g11MOoUyRRIF"
      },
      "source": [
        "train_df['installer'] = train_df.apply(lambda data : encode_installer(data), axis=1)"
      ],
      "execution_count": null,
      "outputs": []
    },
    {
      "cell_type": "code",
      "metadata": {
        "colab": {
          "base_uri": "https://localhost:8080/"
        },
        "id": "Ejb6vzJERrvq",
        "outputId": "15a2101e-4734-4b90-d116-ce3af925c69c"
      },
      "source": [
        "print(train_df.installer.value_counts())\n",
        "train_df.installer.isnull().sum()"
      ],
      "execution_count": null,
      "outputs": [
        {
          "output_type": "stream",
          "text": [
            "Other                 26872\n",
            "DWE                   13005\n",
            "RWE                     876\n",
            "Commu                   806\n",
            "DANIDA                  788\n",
            "KKKT                    681\n",
            "TCRS                    537\n",
            "Central government      504\n",
            "CES                     471\n",
            "Tasaf                    10\n",
            "Name: installer, dtype: int64\n"
          ],
          "name": "stdout"
        },
        {
          "output_type": "execute_result",
          "data": {
            "text/plain": [
              "0"
            ]
          },
          "metadata": {
            "tags": []
          },
          "execution_count": 22
        }
      ]
    },
    {
      "cell_type": "markdown",
      "metadata": {
        "id": "iSbZFsZ1SGYk"
      },
      "source": [
        "For subvillage"
      ]
    },
    {
      "cell_type": "code",
      "metadata": {
        "colab": {
          "base_uri": "https://localhost:8080/"
        },
        "id": "6s3NK3i-SPne",
        "outputId": "123851a1-b10f-4ae3-cac5-bf65678f5168"
      },
      "source": [
        "train_df.subvillage.isnull().sum()"
      ],
      "execution_count": null,
      "outputs": [
        {
          "output_type": "execute_result",
          "data": {
            "text/plain": [
              "287"
            ]
          },
          "metadata": {
            "tags": []
          },
          "execution_count": 23
        }
      ]
    },
    {
      "cell_type": "code",
      "metadata": {
        "colab": {
          "base_uri": "https://localhost:8080/"
        },
        "id": "RiiTOxNYRhoR",
        "outputId": "ba0adce4-03cc-4ba1-ff28-e9f1c4ec7ec0"
      },
      "source": [
        "train_df.subvillage.value_counts()"
      ],
      "execution_count": null,
      "outputs": [
        {
          "output_type": "execute_result",
          "data": {
            "text/plain": [
              "Madukani       403\n",
              "Majengo        391\n",
              "Shuleni        380\n",
              "Kati           274\n",
              "Mtakuja        187\n",
              "              ... \n",
              "Nguvati          1\n",
              "Omumishenye      1\n",
              "Ntembo           1\n",
              "Mwakitolyo       1\n",
              "Nachigwea        1\n",
              "Name: subvillage, Length: 16617, dtype: int64"
            ]
          },
          "metadata": {
            "tags": []
          },
          "execution_count": 24
        }
      ]
    },
    {
      "cell_type": "markdown",
      "metadata": {
        "id": "mauqL5dBSaN1"
      },
      "source": [
        "The missing value are occuring more than top 4 and less than top 3rd frquency.\n",
        "So we can not use the above approach as frequency of missing is quite high. \\\\\n",
        "We can treat these all values as one category and named it as missing."
      ]
    },
    {
      "cell_type": "code",
      "metadata": {
        "id": "8Y6HZ9pdSL4i"
      },
      "source": [
        "train_df['subvillage'] = train_df['subvillage'].fillna('Missing')"
      ],
      "execution_count": null,
      "outputs": []
    },
    {
      "cell_type": "code",
      "metadata": {
        "colab": {
          "base_uri": "https://localhost:8080/"
        },
        "id": "eGFemHMQTFy0",
        "outputId": "04aa8f3a-aa5b-4246-d71c-5d0a2b04a2a8"
      },
      "source": [
        "train_df['subvillage'].value_counts()"
      ],
      "execution_count": null,
      "outputs": [
        {
          "output_type": "execute_result",
          "data": {
            "text/plain": [
              "Madukani        403\n",
              "Majengo         391\n",
              "Shuleni         380\n",
              "Missing         287\n",
              "Kati            274\n",
              "               ... \n",
              "Lugwashi          1\n",
              "King'Wangoko      1\n",
              "Italaga           1\n",
              "Ntutulu           1\n",
              "Nganyange         1\n",
              "Name: subvillage, Length: 16618, dtype: int64"
            ]
          },
          "metadata": {
            "tags": []
          },
          "execution_count": 26
        }
      ]
    },
    {
      "cell_type": "code",
      "metadata": {
        "colab": {
          "base_uri": "https://localhost:8080/"
        },
        "id": "kgegIOFDTPcz",
        "outputId": "80b1ccef-7276-4ed9-95be-31bfa0d157d5"
      },
      "source": [
        "train_df['subvillage'].isnull().sum()"
      ],
      "execution_count": null,
      "outputs": [
        {
          "output_type": "execute_result",
          "data": {
            "text/plain": [
              "0"
            ]
          },
          "metadata": {
            "tags": []
          },
          "execution_count": 27
        }
      ]
    },
    {
      "cell_type": "markdown",
      "metadata": {
        "id": "Fzmn8KNZThTm"
      },
      "source": [
        "For public meeting"
      ]
    },
    {
      "cell_type": "code",
      "metadata": {
        "colab": {
          "base_uri": "https://localhost:8080/"
        },
        "id": "XmpBj21VTL-h",
        "outputId": "3f67d3e8-66b9-4274-b657-b739101f46ec"
      },
      "source": [
        "train_df['public_meeting'].unique()"
      ],
      "execution_count": null,
      "outputs": [
        {
          "output_type": "execute_result",
          "data": {
            "text/plain": [
              "array([True, False, nan], dtype=object)"
            ]
          },
          "metadata": {
            "tags": []
          },
          "execution_count": 28
        }
      ]
    },
    {
      "cell_type": "markdown",
      "metadata": {
        "id": "ZNKVUw4QTzJ8"
      },
      "source": [
        "Only three unique values are there.Two are boolean and replace nan with missing."
      ]
    },
    {
      "cell_type": "code",
      "metadata": {
        "colab": {
          "base_uri": "https://localhost:8080/"
        },
        "id": "1t-eY3u0TrTx",
        "outputId": "fd7d922c-0122-4a39-ddb5-51065d2c3bdb"
      },
      "source": [
        "train_df['public_meeting'] = train_df['public_meeting'].fillna(\"Missing\")\n",
        "train_df.public_meeting.isnull().sum()"
      ],
      "execution_count": null,
      "outputs": [
        {
          "output_type": "execute_result",
          "data": {
            "text/plain": [
              "0"
            ]
          },
          "metadata": {
            "tags": []
          },
          "execution_count": 29
        }
      ]
    },
    {
      "cell_type": "markdown",
      "metadata": {
        "id": "02DK2vVMWfmw"
      },
      "source": [
        "For scheme management"
      ]
    },
    {
      "cell_type": "code",
      "metadata": {
        "colab": {
          "base_uri": "https://localhost:8080/"
        },
        "id": "kBvWHjugUlbp",
        "outputId": "f9668c95-89a3-4a03-8d8a-f49140a6900a"
      },
      "source": [
        "train_df.scheme_management.unique()"
      ],
      "execution_count": null,
      "outputs": [
        {
          "output_type": "execute_result",
          "data": {
            "text/plain": [
              "array(['Water Board', 'Private operator', 'VWC', 'Parastatal',\n",
              "       'Water authority', 'WUG', nan, 'Trust', 'WUA', 'Company', 'Other',\n",
              "       'SWC', 'None'], dtype=object)"
            ]
          },
          "metadata": {
            "tags": []
          },
          "execution_count": 30
        }
      ]
    },
    {
      "cell_type": "markdown",
      "metadata": {
        "id": "VGxfFgBMW0YO"
      },
      "source": [
        "replacing None, nan , other with new category others."
      ]
    },
    {
      "cell_type": "code",
      "metadata": {
        "id": "WT_SG46oWlop"
      },
      "source": [
        "def encode_scheme_mgmt(data):\n",
        "    if data['scheme_management']=='VWC':\n",
        "        return 'VWC'\n",
        "    elif data['scheme_management']=='WUG':\n",
        "        return 'WUG'\n",
        "    elif data['scheme_management']=='Water authority':\n",
        "        return 'Water authority'\n",
        "    elif data['scheme_management']=='WUA':\n",
        "        return 'WUA'\n",
        "    elif data['scheme_management']=='Water Board':\n",
        "        return 'Water Board'\n",
        "    elif data['scheme_management']=='Parastatal':\n",
        "        return 'Parastatal'\n",
        "    elif data['scheme_management']=='Private operator':\n",
        "        return 'Private operator'\n",
        "    elif data['scheme_management']=='SWC':\n",
        "        return 'SWC'\n",
        "    elif data['scheme_management']=='Company':\n",
        "        return 'Company'\n",
        "    elif data['scheme_management']=='Trust':\n",
        "        return 'Trust'\n",
        "    else:\n",
        "        return 'other'\n"
      ],
      "execution_count": null,
      "outputs": []
    },
    {
      "cell_type": "code",
      "metadata": {
        "id": "_80njm6CYP8Y"
      },
      "source": [
        "train_df['scheme_management'] = train_df.apply(lambda data : encode_scheme_mgmt(data), axis = 1)"
      ],
      "execution_count": null,
      "outputs": []
    },
    {
      "cell_type": "code",
      "metadata": {
        "colab": {
          "base_uri": "https://localhost:8080/"
        },
        "id": "n0KgSLX0Z04p",
        "outputId": "f395ec12-eaf4-4f24-e9ea-9145198e0aab"
      },
      "source": [
        "train_df.scheme_management.unique()"
      ],
      "execution_count": null,
      "outputs": [
        {
          "output_type": "execute_result",
          "data": {
            "text/plain": [
              "array(['Water Board', 'Private operator', 'VWC', 'Parastatal',\n",
              "       'Water authority', 'WUG', 'other', 'Trust', 'WUA', 'Company',\n",
              "       'SWC'], dtype=object)"
            ]
          },
          "metadata": {
            "tags": []
          },
          "execution_count": 33
        }
      ]
    },
    {
      "cell_type": "markdown",
      "metadata": {
        "id": "DaQsxWgrbnC8"
      },
      "source": [
        "For scheme name, we know that over 40 % values are Null from above."
      ]
    },
    {
      "cell_type": "code",
      "metadata": {
        "colab": {
          "base_uri": "https://localhost:8080/"
        },
        "id": "1Rlfdik2aN0t",
        "outputId": "706bdf00-c697-4854-ea93-c97a4bc8eca8"
      },
      "source": [
        "train_df.scheme_name.value_counts()"
      ],
      "execution_count": null,
      "outputs": [
        {
          "output_type": "execute_result",
          "data": {
            "text/plain": [
              "K                                  528\n",
              "None                               494\n",
              "Borehole                           402\n",
              "M                                  310\n",
              "Chalinze wate                      300\n",
              "                                  ... \n",
              "Kwemkingu                            1\n",
              "Charles Mushi  Branch line           1\n",
              "Jumwia ya wa tumia maji Vumamti      1\n",
              "Kalemela ziwani                      1\n",
              "Mwamihanza piped water Scheme        1\n",
              "Name: scheme_name, Length: 2506, dtype: int64"
            ]
          },
          "metadata": {
            "tags": []
          },
          "execution_count": 34
        }
      ]
    },
    {
      "cell_type": "code",
      "metadata": {
        "id": "kVbA0a6BbrVQ"
      },
      "source": [
        "train_df.scheme_name = train_df.scheme_name.fillna(\"Missing\")"
      ],
      "execution_count": null,
      "outputs": []
    },
    {
      "cell_type": "code",
      "metadata": {
        "colab": {
          "base_uri": "https://localhost:8080/"
        },
        "id": "vH4e87UCcHAI",
        "outputId": "ba4cb84e-29c9-4c76-eb5e-7a76a1f5eff3"
      },
      "source": [
        "train_df.scheme_name.isnull().sum()"
      ],
      "execution_count": null,
      "outputs": [
        {
          "output_type": "execute_result",
          "data": {
            "text/plain": [
              "0"
            ]
          },
          "metadata": {
            "tags": []
          },
          "execution_count": 36
        }
      ]
    },
    {
      "cell_type": "markdown",
      "metadata": {
        "id": "2oyAIW5jcSmJ"
      },
      "source": [
        "For permit"
      ]
    },
    {
      "cell_type": "code",
      "metadata": {
        "colab": {
          "base_uri": "https://localhost:8080/"
        },
        "id": "N7TgxjfecJWo",
        "outputId": "7ffe8ef6-053a-421b-e0b7-26a60a4ff2ed"
      },
      "source": [
        "train_df.permit.unique()"
      ],
      "execution_count": null,
      "outputs": [
        {
          "output_type": "execute_result",
          "data": {
            "text/plain": [
              "array([True, False, nan], dtype=object)"
            ]
          },
          "metadata": {
            "tags": []
          },
          "execution_count": 37
        }
      ]
    },
    {
      "cell_type": "markdown",
      "metadata": {
        "id": "NypxU4Wycadg"
      },
      "source": [
        "similar to public meeting"
      ]
    },
    {
      "cell_type": "code",
      "metadata": {
        "colab": {
          "base_uri": "https://localhost:8080/"
        },
        "id": "5Zn5cfT6cWv4",
        "outputId": "fc4d102d-33c6-4a5b-d4fe-7546e10ba7d8"
      },
      "source": [
        "train_df.permit = train_df.permit.fillna(\"Missing\")\n",
        "train_df.permit.unique()"
      ],
      "execution_count": null,
      "outputs": [
        {
          "output_type": "execute_result",
          "data": {
            "text/plain": [
              "array([True, False, 'Missing'], dtype=object)"
            ]
          },
          "metadata": {
            "tags": []
          },
          "execution_count": 38
        }
      ]
    },
    {
      "cell_type": "code",
      "metadata": {
        "colab": {
          "base_uri": "https://localhost:8080/"
        },
        "id": "0NSPULlIcrgg",
        "outputId": "375dfa1c-dbe0-40ab-a22b-739d0b2e741e"
      },
      "source": [
        "train_df.info()"
      ],
      "execution_count": null,
      "outputs": [
        {
          "output_type": "stream",
          "text": [
            "<class 'pandas.core.frame.DataFrame'>\n",
            "RangeIndex: 44550 entries, 0 to 44549\n",
            "Data columns (total 28 columns):\n",
            " #   Column                 Non-Null Count  Dtype  \n",
            "---  ------                 --------------  -----  \n",
            " 0   amount_tsh             44550 non-null  float64\n",
            " 1   date_recorded          44550 non-null  object \n",
            " 2   funder                 44550 non-null  object \n",
            " 3   gps_height             44550 non-null  int64  \n",
            " 4   installer              44550 non-null  object \n",
            " 5   longitude              44550 non-null  float64\n",
            " 6   latitude               44550 non-null  float64\n",
            " 7   basin                  44550 non-null  object \n",
            " 8   subvillage             44550 non-null  object \n",
            " 9   region_code            44550 non-null  int64  \n",
            " 10  district_code          44550 non-null  int64  \n",
            " 11  population             44550 non-null  int64  \n",
            " 12  public_meeting         44550 non-null  object \n",
            " 13  scheme_management      44550 non-null  object \n",
            " 14  scheme_name            44550 non-null  object \n",
            " 15  permit                 44550 non-null  object \n",
            " 16  construction_year      44550 non-null  int64  \n",
            " 17  extraction_type        44550 non-null  object \n",
            " 18  management_group       44550 non-null  object \n",
            " 19  payment_type           44550 non-null  object \n",
            " 20  water_quality          44550 non-null  object \n",
            " 21  quantity_group         44550 non-null  object \n",
            " 22  source_type            44550 non-null  object \n",
            " 23  source_class           44550 non-null  object \n",
            " 24  waterpoint_type        44550 non-null  object \n",
            " 25  waterpoint_type_group  44550 non-null  object \n",
            " 26  status_group           44550 non-null  object \n",
            " 27  labels                 44550 non-null  int64  \n",
            "dtypes: float64(3), int64(6), object(19)\n",
            "memory usage: 9.5+ MB\n"
          ],
          "name": "stdout"
        }
      ]
    },
    {
      "cell_type": "markdown",
      "metadata": {
        "id": "EY8sIwJdc_CX"
      },
      "source": [
        "ALL null values handled succeessfully!"
      ]
    },
    {
      "cell_type": "markdown",
      "metadata": {
        "id": "flcQWNejCq06"
      },
      "source": [
        "#Handling object data types"
      ]
    },
    {
      "cell_type": "code",
      "metadata": {
        "colab": {
          "base_uri": "https://localhost:8080/"
        },
        "id": "Fad-F-DAdUmw",
        "outputId": "b069fd32-2509-4ecd-b117-0f1704cb5b0e"
      },
      "source": [
        "train_df.construction_year.unique()"
      ],
      "execution_count": null,
      "outputs": [
        {
          "output_type": "execute_result",
          "data": {
            "text/plain": [
              "array([2008, 1984, 2002,    0, 2007, 2009, 2010, 1996, 1990, 2006, 1975,\n",
              "       2000, 1970, 1985, 2005, 2004, 2012, 1987, 2011, 1981, 1980, 2013,\n",
              "       2003, 1972, 1978, 1982, 1991, 1992, 1997, 1974, 1986, 1995, 1988,\n",
              "       2001, 1998, 1976, 1983, 1979, 1960, 1999, 1967, 1994, 1963, 1969,\n",
              "       1989, 1993, 1971, 1973, 1962, 1961, 1968, 1965, 1964, 1977, 1966])"
            ]
          },
          "metadata": {
            "tags": []
          },
          "execution_count": 40
        }
      ]
    },
    {
      "cell_type": "code",
      "metadata": {
        "colab": {
          "base_uri": "https://localhost:8080/"
        },
        "id": "0Tmc6wegfiLx",
        "outputId": "b32ffd9e-0aa9-4a17-d46e-f580519708e0"
      },
      "source": [
        "print(train_df.construction_year.min())\n",
        "print(train_df.construction_year.max())"
      ],
      "execution_count": null,
      "outputs": [
        {
          "output_type": "stream",
          "text": [
            "0\n",
            "2013\n"
          ],
          "name": "stdout"
        }
      ]
    },
    {
      "cell_type": "markdown",
      "metadata": {
        "id": "eB8FH-yRfcon"
      },
      "source": [
        "Too many categories. \\\\\n",
        "one unknown value . \\\\\n",
        "categorising based on 2 decades\n"
      ]
    },
    {
      "cell_type": "code",
      "metadata": {
        "id": "_DnyZrGvf0kX"
      },
      "source": [
        "def encode_construction(data):\n",
        "  if data['construction_year'] > 1960 and data['construction_year'] <= 1980 :\n",
        "    return \"before 1980\"\n",
        "  if data['construction_year'] > 1980 and data['construction_year'] <= 2000 :\n",
        "    return \"before 2000\"\n",
        "  if data['construction_year'] > 2000 and data['construction_year'] <= 2013 :\n",
        "    return \"before 2013\"\n",
        "  else :\n",
        "    return \"Missing\"\n"
      ],
      "execution_count": null,
      "outputs": []
    },
    {
      "cell_type": "code",
      "metadata": {
        "colab": {
          "base_uri": "https://localhost:8080/"
        },
        "id": "MltIb2mee2ag",
        "outputId": "acc5112c-ad4e-4686-bfb5-f239ed5f0e84"
      },
      "source": [
        "train_df.construction_year = train_df.apply(lambda data : encode_construction(data) , axis = 1)\n",
        "train_df.construction_year"
      ],
      "execution_count": null,
      "outputs": [
        {
          "output_type": "execute_result",
          "data": {
            "text/plain": [
              "0        before 2013\n",
              "1        before 2000\n",
              "2        before 2013\n",
              "3            Missing\n",
              "4        before 2013\n",
              "            ...     \n",
              "44545        Missing\n",
              "44546        Missing\n",
              "44547    before 1980\n",
              "44548    before 2013\n",
              "44549        Missing\n",
              "Name: construction_year, Length: 44550, dtype: object"
            ]
          },
          "metadata": {
            "tags": []
          },
          "execution_count": 43
        }
      ]
    },
    {
      "cell_type": "code",
      "metadata": {
        "colab": {
          "base_uri": "https://localhost:8080/"
        },
        "id": "VvA4GyiZjQOY",
        "outputId": "8ba4b52c-52d5-483e-8c3e-68b9243cb497"
      },
      "source": [
        "train_df.construction_year.unique()"
      ],
      "execution_count": null,
      "outputs": [
        {
          "output_type": "execute_result",
          "data": {
            "text/plain": [
              "array(['before 2013', 'before 2000', 'Missing', 'before 1980'],\n",
              "      dtype=object)"
            ]
          },
          "metadata": {
            "tags": []
          },
          "execution_count": 44
        }
      ]
    },
    {
      "cell_type": "code",
      "metadata": {
        "colab": {
          "base_uri": "https://localhost:8080/"
        },
        "id": "aYzCuPDwjW5g",
        "outputId": "7768cd2a-4a5d-4e06-ac26-e4f1f5501355"
      },
      "source": [
        "date= train_df.date_recorded.unique()\n",
        "print(len(date))"
      ],
      "execution_count": null,
      "outputs": [
        {
          "output_type": "stream",
          "text": [
            "346\n"
          ],
          "name": "stdout"
        }
      ]
    },
    {
      "cell_type": "markdown",
      "metadata": {
        "id": "mPYEETgPk6Pn"
      },
      "source": [
        "Referred : $\\text{https://towardsdatascience.com/all-you-want-to-know-about-preprocessing-data-preparation-b6c2866071d4 \n",
        "}$\n",
        "\n",
        "handling date-time data"
      ]
    },
    {
      "cell_type": "code",
      "metadata": {
        "colab": {
          "base_uri": "https://localhost:8080/"
        },
        "id": "Txe6zwQCjduA",
        "outputId": "e7171b6e-31f0-4573-e47f-ad4a8556053b"
      },
      "source": [
        "train_df.date_recorded = pd.to_datetime(train_df['date_recorded'])\n",
        "train_df.date_recorded.describe()"
      ],
      "execution_count": null,
      "outputs": [
        {
          "output_type": "stream",
          "text": [
            "/usr/local/lib/python3.7/dist-packages/ipykernel_launcher.py:2: FutureWarning: Treating datetime data as categorical rather than numeric in `.describe` is deprecated and will be removed in a future version of pandas. Specify `datetime_is_numeric=True` to silence this warning and adopt the future behavior now.\n",
            "  \n"
          ],
          "name": "stderr"
        },
        {
          "output_type": "execute_result",
          "data": {
            "text/plain": [
              "count                   44550\n",
              "unique                    346\n",
              "top       2011-03-15 00:00:00\n",
              "freq                      423\n",
              "first     2002-10-14 00:00:00\n",
              "last      2013-12-03 00:00:00\n",
              "Name: date_recorded, dtype: object"
            ]
          },
          "metadata": {
            "tags": []
          },
          "execution_count": 46
        }
      ]
    },
    {
      "cell_type": "markdown",
      "metadata": {
        "id": "FNyupVhkEGLu"
      },
      "source": [
        "Most recent value is 2013-12-03 we subtract each date from this to get days for which pump are active. \\\\\n",
        "inspiration to do this : https://towardsdatascience.com/machine-learning-with-datetime-feature-engineering-predicting-healthcare-appointment-no-shows-5e4ca3a85f96"
      ]
    },
    {
      "cell_type": "code",
      "metadata": {
        "colab": {
          "base_uri": "https://localhost:8080/"
        },
        "id": "Oaxa66RMEBZ9",
        "outputId": "faa95692-5515-476b-b802-575427a4f572"
      },
      "source": [
        "train_df.date_recorded = pd.datetime(2013, 12, 3) - pd.to_datetime(train_df.date_recorded)\n",
        "train_df.columns = ['active_days' if x=='date_recorded' else x for x in train_df.columns]\n",
        "train_df.active_days = train_df.active_days.astype('timedelta64[D]').astype(int)\n",
        "train_df.active_days.describe()"
      ],
      "execution_count": null,
      "outputs": [
        {
          "output_type": "stream",
          "text": [
            "/usr/local/lib/python3.7/dist-packages/ipykernel_launcher.py:1: FutureWarning: The pandas.datetime class is deprecated and will be removed from pandas in a future version. Import from datetime module instead.\n",
            "  \"\"\"Entry point for launching an IPython kernel.\n"
          ],
          "name": "stderr"
        },
        {
          "output_type": "execute_result",
          "data": {
            "text/plain": [
              "count    44550.000000\n",
              "mean       615.289809\n",
              "std        333.898570\n",
              "min          0.000000\n",
              "25%        297.000000\n",
              "50%        420.000000\n",
              "75%        977.000000\n",
              "max       4068.000000\n",
              "Name: active_days, dtype: float64"
            ]
          },
          "metadata": {
            "tags": []
          },
          "execution_count": 47
        }
      ]
    },
    {
      "cell_type": "code",
      "metadata": {
        "colab": {
          "base_uri": "https://localhost:8080/"
        },
        "id": "z30t_rClnebH",
        "outputId": "7036817e-3eba-4209-8462-9c40602cfd0d"
      },
      "source": [
        "train_df.active_days.describe()"
      ],
      "execution_count": null,
      "outputs": [
        {
          "output_type": "execute_result",
          "data": {
            "text/plain": [
              "count    44550.000000\n",
              "mean       615.289809\n",
              "std        333.898570\n",
              "min          0.000000\n",
              "25%        297.000000\n",
              "50%        420.000000\n",
              "75%        977.000000\n",
              "max       4068.000000\n",
              "Name: active_days, dtype: float64"
            ]
          },
          "metadata": {
            "tags": []
          },
          "execution_count": 48
        }
      ]
    },
    {
      "cell_type": "code",
      "metadata": {
        "colab": {
          "base_uri": "https://localhost:8080/"
        },
        "id": "wWblTkPXn2UJ",
        "outputId": "fca15ec2-2c42-46eb-9f51-deab8a8916c2"
      },
      "source": [
        "print(train_df.active_days.unique())\n",
        "print(train_df.active_days.isnull().sum())"
      ],
      "execution_count": null,
      "outputs": [
        {
          "output_type": "stream",
          "text": [
            "[ 258 1016  333  975  270  426  981  997  319  308  976  998  854  864\n",
            "  250  295  288  873  289  857  990  983  992  870  869  986  263  980\n",
            "  874  991  862  257  292  259  248  409  977  416  969 1011  420   30\n",
            "  402  848  985  122 1004  415 1002  291  286  317  974  875  973    1\n",
            "  401  321 1005  859  822  965  856  298  307  297  877  287  183  417\n",
            " 1034  302  988  312  280  852  310  261 1000  262  989  407  296  252\n",
            "  412  963  264  872  876  311 1007  411  322  423  305 1006  878  842\n",
            "  290  996  395  964  961  253  315  757  393  392  265  283  858  254\n",
            "  304   91  414  318  385  300  389  285  850  851  215  868  299 1021\n",
            "  966  214  271  314  861  406  987  255 1014 1003  399  313  275 1001\n",
            " 1013  397  424  272 1015  294 1019  353 1008  425  727  355  243  881\n",
            "  863  970  879  880  994  306  866  293  213  971   31  995  960  972\n",
            "  279  352  967  244  419  153  274  860  978  408  256  282  421  303\n",
            "  968  843  278  865  410  398  320  982  832  979  388 1017 1012  760\n",
            "  154  323  251  999  841  845  993  867  958  840  277  384  284  836\n",
            "  427  405  428  400  344  326  853  849 1009  390  281  835  260  309\n",
            "  269  123  328  301  249 1033  266  413  984  788  403 1010  731  404\n",
            "  422  847  387  418 1022  855  316  828  268  276  959  394    0  957\n",
            "  838   62  273  386  831  844  383  962  882   61  846  829  334  871\n",
            " 1018  821  327  914  834  839 1064  837  368  761  830  350  336  357\n",
            "  182   92  267  396  324  910  152  913  347  833  354  944  883 1036\n",
            " 1060  325  812  379  792  330  809  356 1035  791  682  358  329  956\n",
            " 1065  369 3503  245  391  884  945  797 3289 3564  351  814  955 3533\n",
            "  345 1023 3411 1020 3380  824  941 3559    2  816 4068  800  806  810\n",
            "  811  813  804  799  678  802  807 3472  808  825]\n",
            "0\n"
          ],
          "name": "stdout"
        }
      ]
    },
    {
      "cell_type": "markdown",
      "metadata": {
        "id": "AwHJQxw6L-z8"
      },
      "source": [
        "#Encoding for object data type"
      ]
    },
    {
      "cell_type": "markdown",
      "metadata": {
        "id": "iyTZBK4gNCDA"
      },
      "source": [
        "$\\text{subvillage and scheme name has too many unique values to generate dummies or do any encoding and are already capturing info in region code so dropping them}$"
      ]
    },
    {
      "cell_type": "code",
      "metadata": {
        "id": "MkBQnEWzTfsK"
      },
      "source": [
        "train_df = train_df.drop(['subvillage','scheme_name'], axis = 1)"
      ],
      "execution_count": null,
      "outputs": []
    },
    {
      "cell_type": "code",
      "metadata": {
        "id": "F7twWQ95DmDw"
      },
      "source": [
        "def labels(df) :\n",
        "  name = df.unique()\n",
        "  from sklearn.preprocessing import LabelEncoder\n",
        "  gle = LabelEncoder()\n",
        "  name_labels = gle.fit_transform(df)\n",
        "  df = name_labels\n",
        "\n",
        "  return df"
      ],
      "execution_count": null,
      "outputs": []
    },
    {
      "cell_type": "code",
      "metadata": {
        "colab": {
          "base_uri": "https://localhost:8080/"
        },
        "id": "O5Y3LnWvJojA",
        "outputId": "1de17b95-9dd5-46e1-953a-8e3ef46bb63b"
      },
      "source": [
        "#getting list of columns with categorical data\n",
        "object_list = list(train_df.select_dtypes(include=['object']).columns)\n",
        "print(object_list)\n",
        "len(object_list)"
      ],
      "execution_count": null,
      "outputs": [
        {
          "output_type": "stream",
          "text": [
            "['funder', 'installer', 'basin', 'public_meeting', 'scheme_management', 'permit', 'construction_year', 'extraction_type', 'management_group', 'payment_type', 'water_quality', 'quantity_group', 'source_type', 'source_class', 'waterpoint_type', 'waterpoint_type_group', 'status_group']\n"
          ],
          "name": "stdout"
        },
        {
          "output_type": "execute_result",
          "data": {
            "text/plain": [
              "17"
            ]
          },
          "metadata": {
            "tags": []
          },
          "execution_count": 52
        }
      ]
    },
    {
      "cell_type": "code",
      "metadata": {
        "id": "rPKz_7PuL4Lx"
      },
      "source": [
        "train_df['funder'] = labels(train_df['funder'])\n",
        "train_df['installer'] = labels(train_df['installer'])\n",
        "train_df['basin'] = labels(train_df['basin'])\n",
        "train_df['scheme_management'] = labels(train_df['scheme_management'])\n",
        "train_df['construction_year'] = labels(train_df['construction_year'])\n",
        "train_df['extraction_type'] = labels(train_df['extraction_type'])\n",
        "train_df['management_group'] = labels(train_df['management_group'])\n",
        "train_df['payment_type'] = labels(train_df['payment_type'])\n",
        "train_df['water_quality'] = labels(train_df['water_quality'])\n",
        "train_df['quantity_group'] = labels(train_df['quantity_group'])\n",
        "train_df['source_type'] = labels(train_df['source_type'])\n",
        "train_df['source_class'] = labels(train_df['source_class'])\n",
        "train_df['waterpoint_type'] = labels(train_df['waterpoint_type'])\n",
        "train_df['waterpoint_type_group'] = labels(train_df['waterpoint_type_group'])"
      ],
      "execution_count": null,
      "outputs": []
    },
    {
      "cell_type": "code",
      "metadata": {
        "id": "by4xn8ykUxBt"
      },
      "source": [
        "replace = {True : 1 , False : 0 , \"Missing\" : 2}\n",
        "train_df['permit'] = [replace[i] for i in train_df['permit']]\n",
        "train_df['public_meeting'] = [replace[i] for i in train_df['public_meeting']]"
      ],
      "execution_count": null,
      "outputs": []
    },
    {
      "cell_type": "code",
      "metadata": {
        "id": "EyvOckaYUV3B"
      },
      "source": [
        "#dropping status_group as already encoded labels\n",
        "train_df = train_df.drop(['status_group'],axis = 1)"
      ],
      "execution_count": null,
      "outputs": []
    },
    {
      "cell_type": "code",
      "metadata": {
        "colab": {
          "base_uri": "https://localhost:8080/"
        },
        "id": "FQuV1gUqULOx",
        "outputId": "a4ef6a2e-e398-47aa-f2de-1b5cad3f4179"
      },
      "source": [
        "train_df.dtypes"
      ],
      "execution_count": null,
      "outputs": [
        {
          "output_type": "execute_result",
          "data": {
            "text/plain": [
              "amount_tsh               float64\n",
              "active_days                int64\n",
              "funder                     int64\n",
              "gps_height                 int64\n",
              "installer                  int64\n",
              "longitude                float64\n",
              "latitude                 float64\n",
              "basin                      int64\n",
              "region_code                int64\n",
              "district_code              int64\n",
              "population                 int64\n",
              "public_meeting             int64\n",
              "scheme_management          int64\n",
              "permit                     int64\n",
              "construction_year          int64\n",
              "extraction_type            int64\n",
              "management_group           int64\n",
              "payment_type               int64\n",
              "water_quality              int64\n",
              "quantity_group             int64\n",
              "source_type                int64\n",
              "source_class               int64\n",
              "waterpoint_type            int64\n",
              "waterpoint_type_group      int64\n",
              "labels                     int64\n",
              "dtype: object"
            ]
          },
          "metadata": {
            "tags": []
          },
          "execution_count": 56
        }
      ]
    },
    {
      "cell_type": "markdown",
      "metadata": {
        "id": "4TILSxRIW2nf"
      },
      "source": [
        "#Data Visualization"
      ]
    },
    {
      "cell_type": "code",
      "metadata": {
        "colab": {
          "base_uri": "https://localhost:8080/",
          "height": 700
        },
        "id": "JiZHRp8eWxVg",
        "outputId": "62219b92-b3e3-4a11-e995-47036d90704c"
      },
      "source": [
        "corrMatrix = train_df.corr(method = 'spearman')\n",
        "fig, ax =plt.subplots(figsize=(10,10))\n",
        "sns.heatmap(abs(corrMatrix), annot=False)\n",
        "plt.show()"
      ],
      "execution_count": null,
      "outputs": [
        {
          "output_type": "display_data",
          "data": {
            "image/png": "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\n",
            "text/plain": [
              "<Figure size 720x720 with 2 Axes>"
            ]
          },
          "metadata": {
            "tags": [],
            "needs_background": "light"
          }
        }
      ]
    },
    {
      "cell_type": "markdown",
      "metadata": {
        "id": "bYnFemBrXEqY"
      },
      "source": [
        "$\\text{waterpoint_type and waterpoint_type_group has high correlation , can drop one of them , say drop waterpoint_type_group.}$"
      ]
    },
    {
      "cell_type": "code",
      "metadata": {
        "colab": {
          "base_uri": "https://localhost:8080/",
          "height": 215
        },
        "id": "6xPgY1umW6nw",
        "outputId": "9ec4b6bd-130a-4afb-8a34-e3f393c52198"
      },
      "source": [
        "train_df = train_df.drop(['waterpoint_type_group'],axis = 1)\n",
        "train_df.head(5)"
      ],
      "execution_count": null,
      "outputs": [
        {
          "output_type": "execute_result",
          "data": {
            "text/html": [
              "<div>\n",
              "<style scoped>\n",
              "    .dataframe tbody tr th:only-of-type {\n",
              "        vertical-align: middle;\n",
              "    }\n",
              "\n",
              "    .dataframe tbody tr th {\n",
              "        vertical-align: top;\n",
              "    }\n",
              "\n",
              "    .dataframe thead th {\n",
              "        text-align: right;\n",
              "    }\n",
              "</style>\n",
              "<table border=\"1\" class=\"dataframe\">\n",
              "  <thead>\n",
              "    <tr style=\"text-align: right;\">\n",
              "      <th></th>\n",
              "      <th>amount_tsh</th>\n",
              "      <th>active_days</th>\n",
              "      <th>funder</th>\n",
              "      <th>gps_height</th>\n",
              "      <th>installer</th>\n",
              "      <th>longitude</th>\n",
              "      <th>latitude</th>\n",
              "      <th>basin</th>\n",
              "      <th>region_code</th>\n",
              "      <th>district_code</th>\n",
              "      <th>population</th>\n",
              "      <th>public_meeting</th>\n",
              "      <th>scheme_management</th>\n",
              "      <th>permit</th>\n",
              "      <th>construction_year</th>\n",
              "      <th>extraction_type</th>\n",
              "      <th>management_group</th>\n",
              "      <th>payment_type</th>\n",
              "      <th>water_quality</th>\n",
              "      <th>quantity_group</th>\n",
              "      <th>source_type</th>\n",
              "      <th>source_class</th>\n",
              "      <th>waterpoint_type</th>\n",
              "      <th>labels</th>\n",
              "    </tr>\n",
              "  </thead>\n",
              "  <tbody>\n",
              "    <tr>\n",
              "      <th>0</th>\n",
              "      <td>7.0</td>\n",
              "      <td>258</td>\n",
              "      <td>5</td>\n",
              "      <td>1203</td>\n",
              "      <td>0</td>\n",
              "      <td>37.228664</td>\n",
              "      <td>-3.256505</td>\n",
              "      <td>5</td>\n",
              "      <td>3</td>\n",
              "      <td>5</td>\n",
              "      <td>90</td>\n",
              "      <td>1</td>\n",
              "      <td>8</td>\n",
              "      <td>1</td>\n",
              "      <td>3</td>\n",
              "      <td>3</td>\n",
              "      <td>4</td>\n",
              "      <td>5</td>\n",
              "      <td>6</td>\n",
              "      <td>1</td>\n",
              "      <td>6</td>\n",
              "      <td>0</td>\n",
              "      <td>1</td>\n",
              "      <td>1</td>\n",
              "    </tr>\n",
              "    <tr>\n",
              "      <th>1</th>\n",
              "      <td>0.0</td>\n",
              "      <td>1016</td>\n",
              "      <td>5</td>\n",
              "      <td>1409</td>\n",
              "      <td>6</td>\n",
              "      <td>34.615481</td>\n",
              "      <td>-9.972601</td>\n",
              "      <td>1</td>\n",
              "      <td>11</td>\n",
              "      <td>5</td>\n",
              "      <td>70</td>\n",
              "      <td>0</td>\n",
              "      <td>2</td>\n",
              "      <td>0</td>\n",
              "      <td>2</td>\n",
              "      <td>3</td>\n",
              "      <td>0</td>\n",
              "      <td>2</td>\n",
              "      <td>6</td>\n",
              "      <td>1</td>\n",
              "      <td>6</td>\n",
              "      <td>0</td>\n",
              "      <td>1</td>\n",
              "      <td>1</td>\n",
              "    </tr>\n",
              "    <tr>\n",
              "      <th>2</th>\n",
              "      <td>0.0</td>\n",
              "      <td>333</td>\n",
              "      <td>2</td>\n",
              "      <td>1572</td>\n",
              "      <td>4</td>\n",
              "      <td>36.658778</td>\n",
              "      <td>-3.321529</td>\n",
              "      <td>5</td>\n",
              "      <td>2</td>\n",
              "      <td>2</td>\n",
              "      <td>150</td>\n",
              "      <td>1</td>\n",
              "      <td>5</td>\n",
              "      <td>1</td>\n",
              "      <td>3</td>\n",
              "      <td>3</td>\n",
              "      <td>4</td>\n",
              "      <td>2</td>\n",
              "      <td>6</td>\n",
              "      <td>2</td>\n",
              "      <td>6</td>\n",
              "      <td>0</td>\n",
              "      <td>1</td>\n",
              "      <td>0</td>\n",
              "    </tr>\n",
              "    <tr>\n",
              "      <th>3</th>\n",
              "      <td>0.0</td>\n",
              "      <td>975</td>\n",
              "      <td>1</td>\n",
              "      <td>0</td>\n",
              "      <td>6</td>\n",
              "      <td>33.628025</td>\n",
              "      <td>-8.860795</td>\n",
              "      <td>6</td>\n",
              "      <td>12</td>\n",
              "      <td>2</td>\n",
              "      <td>0</td>\n",
              "      <td>1</td>\n",
              "      <td>5</td>\n",
              "      <td>1</td>\n",
              "      <td>0</td>\n",
              "      <td>3</td>\n",
              "      <td>4</td>\n",
              "      <td>0</td>\n",
              "      <td>6</td>\n",
              "      <td>2</td>\n",
              "      <td>4</td>\n",
              "      <td>1</td>\n",
              "      <td>1</td>\n",
              "      <td>1</td>\n",
              "    </tr>\n",
              "    <tr>\n",
              "      <th>4</th>\n",
              "      <td>300.0</td>\n",
              "      <td>270</td>\n",
              "      <td>1</td>\n",
              "      <td>1283</td>\n",
              "      <td>6</td>\n",
              "      <td>37.655509</td>\n",
              "      <td>-3.669777</td>\n",
              "      <td>5</td>\n",
              "      <td>3</td>\n",
              "      <td>2</td>\n",
              "      <td>34</td>\n",
              "      <td>1</td>\n",
              "      <td>5</td>\n",
              "      <td>0</td>\n",
              "      <td>3</td>\n",
              "      <td>3</td>\n",
              "      <td>4</td>\n",
              "      <td>1</td>\n",
              "      <td>6</td>\n",
              "      <td>2</td>\n",
              "      <td>6</td>\n",
              "      <td>0</td>\n",
              "      <td>1</td>\n",
              "      <td>1</td>\n",
              "    </tr>\n",
              "  </tbody>\n",
              "</table>\n",
              "</div>"
            ],
            "text/plain": [
              "   amount_tsh  active_days  funder  ...  source_class  waterpoint_type  labels\n",
              "0         7.0          258       5  ...             0                1       1\n",
              "1         0.0         1016       5  ...             0                1       1\n",
              "2         0.0          333       2  ...             0                1       0\n",
              "3         0.0          975       1  ...             1                1       1\n",
              "4       300.0          270       1  ...             0                1       1\n",
              "\n",
              "[5 rows x 24 columns]"
            ]
          },
          "metadata": {
            "tags": []
          },
          "execution_count": 58
        }
      ]
    },
    {
      "cell_type": "markdown",
      "metadata": {
        "id": "wTR3wYOcXneL"
      },
      "source": [
        "#Cleaning test data as done for train data "
      ]
    },
    {
      "cell_type": "code",
      "metadata": {
        "id": "oNOsORFpXx-2"
      },
      "source": [
        "cols_to_retain = train_df.columns\n",
        "cols_to_retain = cols_to_retain[:-1]"
      ],
      "execution_count": null,
      "outputs": []
    },
    {
      "cell_type": "code",
      "metadata": {
        "colab": {
          "base_uri": "https://localhost:8080/"
        },
        "id": "drjMTMNvY1bG",
        "outputId": "86f358c8-1fa9-4a42-8c84-ac0a0d62cbaa"
      },
      "source": [
        "test_df.columns"
      ],
      "execution_count": null,
      "outputs": [
        {
          "output_type": "execute_result",
          "data": {
            "text/plain": [
              "Index(['Unnamed: 0', 'id', 'amount_tsh', 'date_recorded', 'funder',\n",
              "       'gps_height', 'installer', 'longitude', 'latitude', 'wpt_name',\n",
              "       'num_private', 'basin', 'subvillage', 'region', 'region_code',\n",
              "       'district_code', 'lga', 'ward', 'population', 'public_meeting',\n",
              "       'recorded_by', 'scheme_management', 'scheme_name', 'permit',\n",
              "       'construction_year', 'extraction_type', 'extraction_type_group',\n",
              "       'extraction_type_class', 'management', 'management_group', 'payment',\n",
              "       'payment_type', 'water_quality', 'quality_group', 'quantity',\n",
              "       'quantity_group', 'source', 'source_type', 'source_class',\n",
              "       'waterpoint_type', 'waterpoint_type_group'],\n",
              "      dtype='object')"
            ]
          },
          "metadata": {
            "tags": []
          },
          "execution_count": 60
        }
      ]
    },
    {
      "cell_type": "markdown",
      "metadata": {
        "id": "mz4wQqT7ZTr0"
      },
      "source": [
        "$\\textbf{Dropping columns that are not useful as seen in train data.}$"
      ]
    },
    {
      "cell_type": "code",
      "metadata": {
        "id": "qKzBrHYUYIcD"
      },
      "source": [
        "test_df = test_df.drop(['id','wpt_name', 'num_private', 'region','lga','ward','recorded_by','extraction_type_group','extraction_type_class','management','payment','quality_group','quantity','source','subvillage','scheme_name','waterpoint_type_group','Unnamed: 0'],axis = 1)"
      ],
      "execution_count": null,
      "outputs": []
    },
    {
      "cell_type": "markdown",
      "metadata": {
        "id": "Qfh7NNPXZcx0"
      },
      "source": [
        "#preprocessing and cleaning test data"
      ]
    },
    {
      "cell_type": "code",
      "metadata": {
        "colab": {
          "base_uri": "https://localhost:8080/"
        },
        "id": "WiVIrT50ZICY",
        "outputId": "d70ee46a-0dc8-4ce8-8245-3d5b79edfeec"
      },
      "source": [
        "test_df.date_recorded = pd.datetime(2013, 12, 3) - pd.to_datetime(test_df.date_recorded)\n",
        "test_df.columns = ['active_days' if x=='date_recorded' else x for x in test_df.columns]\n",
        "test_df.active_days = test_df.active_days.astype('timedelta64[D]').astype(int)\n",
        "test_df.active_days.describe()"
      ],
      "execution_count": null,
      "outputs": [
        {
          "output_type": "stream",
          "text": [
            "/usr/local/lib/python3.7/dist-packages/ipykernel_launcher.py:1: FutureWarning: The pandas.datetime class is deprecated and will be removed from pandas in a future version. Import from datetime module instead.\n",
            "  \"\"\"Entry point for launching an IPython kernel.\n"
          ],
          "name": "stderr"
        },
        {
          "output_type": "execute_result",
          "data": {
            "text/plain": [
              "count    14850.000000\n",
              "mean       608.598451\n",
              "std        335.129140\n",
              "min          0.000000\n",
              "25%        296.000000\n",
              "50%        416.000000\n",
              "75%        976.750000\n",
              "max       3618.000000\n",
              "Name: active_days, dtype: float64"
            ]
          },
          "metadata": {
            "tags": []
          },
          "execution_count": 62
        }
      ]
    },
    {
      "cell_type": "code",
      "metadata": {
        "id": "fIXU1fI4aDu2"
      },
      "source": [
        "test_df['funder'] = test_df.apply(lambda data : encode_funder(data), axis=1)\n",
        "test_df['installer'] = test_df.apply(lambda data : encode_installer(data), axis=1)\n",
        "test_df['public_meeting'] = test_df['public_meeting'].fillna(\"Missing\")\n",
        "test_df['scheme_management'] = test_df.apply(lambda data : encode_scheme_mgmt(data), axis = 1)\n",
        "test_df.permit = test_df.permit.fillna(\"Missing\")\n",
        "test_df.construction_year = test_df.apply(lambda data : encode_construction(data) , axis = 1)"
      ],
      "execution_count": null,
      "outputs": []
    },
    {
      "cell_type": "code",
      "metadata": {
        "id": "PspNTqR-bPtA"
      },
      "source": [
        "test_df['funder'] = labels(test_df['funder'])\n",
        "test_df['installer'] = labels(test_df['installer'])\n",
        "test_df['basin'] = labels(test_df['basin'])\n",
        "test_df['scheme_management'] = labels(test_df['scheme_management'])\n",
        "test_df['construction_year'] = labels(test_df['construction_year'])\n",
        "test_df['extraction_type'] = labels(test_df['extraction_type'])\n",
        "test_df['management_group'] = labels(test_df['management_group'])\n",
        "test_df['payment_type'] = labels(test_df['payment_type'])\n",
        "test_df['water_quality'] = labels(test_df['water_quality'])\n",
        "test_df['quantity_group'] = labels(test_df['quantity_group'])\n",
        "test_df['source_type'] = labels(test_df['source_type'])\n",
        "test_df['source_class'] = labels(test_df['source_class'])\n",
        "test_df['waterpoint_type'] = labels(test_df['waterpoint_type'])\n",
        "replace = {True : 1 , False : 0 , \"Missing\" : 2}\n",
        "test_df['permit'] = [replace[i] for i in test_df['permit']]\n",
        "test_df['public_meeting'] = [replace[i] for i in test_df['public_meeting']]"
      ],
      "execution_count": null,
      "outputs": []
    },
    {
      "cell_type": "code",
      "metadata": {
        "colab": {
          "base_uri": "https://localhost:8080/"
        },
        "id": "10K-JZfsbTxR",
        "outputId": "50bcf056-06c5-471e-d362-fa888379c9c6"
      },
      "source": [
        "test_df.dtypes"
      ],
      "execution_count": null,
      "outputs": [
        {
          "output_type": "execute_result",
          "data": {
            "text/plain": [
              "amount_tsh           float64\n",
              "active_days            int64\n",
              "funder                 int64\n",
              "gps_height             int64\n",
              "installer              int64\n",
              "longitude            float64\n",
              "latitude             float64\n",
              "basin                  int64\n",
              "region_code            int64\n",
              "district_code          int64\n",
              "population             int64\n",
              "public_meeting         int64\n",
              "scheme_management      int64\n",
              "permit                 int64\n",
              "construction_year      int64\n",
              "extraction_type        int64\n",
              "management_group       int64\n",
              "payment_type           int64\n",
              "water_quality          int64\n",
              "quantity_group         int64\n",
              "source_type            int64\n",
              "source_class           int64\n",
              "waterpoint_type        int64\n",
              "dtype: object"
            ]
          },
          "metadata": {
            "tags": []
          },
          "execution_count": 65
        }
      ]
    },
    {
      "cell_type": "code",
      "metadata": {
        "colab": {
          "base_uri": "https://localhost:8080/",
          "height": 215
        },
        "id": "WmBJBRXVbWRw",
        "outputId": "2a296397-95f7-4ac3-c6ed-d2d6301bc4e3"
      },
      "source": [
        "test_df.head(5)"
      ],
      "execution_count": null,
      "outputs": [
        {
          "output_type": "execute_result",
          "data": {
            "text/html": [
              "<div>\n",
              "<style scoped>\n",
              "    .dataframe tbody tr th:only-of-type {\n",
              "        vertical-align: middle;\n",
              "    }\n",
              "\n",
              "    .dataframe tbody tr th {\n",
              "        vertical-align: top;\n",
              "    }\n",
              "\n",
              "    .dataframe thead th {\n",
              "        text-align: right;\n",
              "    }\n",
              "</style>\n",
              "<table border=\"1\" class=\"dataframe\">\n",
              "  <thead>\n",
              "    <tr style=\"text-align: right;\">\n",
              "      <th></th>\n",
              "      <th>amount_tsh</th>\n",
              "      <th>active_days</th>\n",
              "      <th>funder</th>\n",
              "      <th>gps_height</th>\n",
              "      <th>installer</th>\n",
              "      <th>longitude</th>\n",
              "      <th>latitude</th>\n",
              "      <th>basin</th>\n",
              "      <th>region_code</th>\n",
              "      <th>district_code</th>\n",
              "      <th>population</th>\n",
              "      <th>public_meeting</th>\n",
              "      <th>scheme_management</th>\n",
              "      <th>permit</th>\n",
              "      <th>construction_year</th>\n",
              "      <th>extraction_type</th>\n",
              "      <th>management_group</th>\n",
              "      <th>payment_type</th>\n",
              "      <th>water_quality</th>\n",
              "      <th>quantity_group</th>\n",
              "      <th>source_type</th>\n",
              "      <th>source_class</th>\n",
              "      <th>waterpoint_type</th>\n",
              "    </tr>\n",
              "  </thead>\n",
              "  <tbody>\n",
              "    <tr>\n",
              "      <th>0</th>\n",
              "      <td>0.0</td>\n",
              "      <td>1012</td>\n",
              "      <td>5</td>\n",
              "      <td>1676</td>\n",
              "      <td>6</td>\n",
              "      <td>35.247289</td>\n",
              "      <td>-8.113243</td>\n",
              "      <td>6</td>\n",
              "      <td>11</td>\n",
              "      <td>1</td>\n",
              "      <td>769</td>\n",
              "      <td>1</td>\n",
              "      <td>5</td>\n",
              "      <td>1</td>\n",
              "      <td>3</td>\n",
              "      <td>3</td>\n",
              "      <td>4</td>\n",
              "      <td>2</td>\n",
              "      <td>6</td>\n",
              "      <td>0</td>\n",
              "      <td>6</td>\n",
              "      <td>0</td>\n",
              "      <td>1</td>\n",
              "    </tr>\n",
              "    <tr>\n",
              "      <th>1</th>\n",
              "      <td>0.0</td>\n",
              "      <td>961</td>\n",
              "      <td>5</td>\n",
              "      <td>0</td>\n",
              "      <td>4</td>\n",
              "      <td>36.163435</td>\n",
              "      <td>-5.218454</td>\n",
              "      <td>8</td>\n",
              "      <td>1</td>\n",
              "      <td>1</td>\n",
              "      <td>0</td>\n",
              "      <td>1</td>\n",
              "      <td>5</td>\n",
              "      <td>0</td>\n",
              "      <td>0</td>\n",
              "      <td>7</td>\n",
              "      <td>4</td>\n",
              "      <td>2</td>\n",
              "      <td>6</td>\n",
              "      <td>1</td>\n",
              "      <td>0</td>\n",
              "      <td>0</td>\n",
              "      <td>1</td>\n",
              "    </tr>\n",
              "    <tr>\n",
              "      <th>2</th>\n",
              "      <td>0.0</td>\n",
              "      <td>982</td>\n",
              "      <td>5</td>\n",
              "      <td>0</td>\n",
              "      <td>6</td>\n",
              "      <td>36.363337</td>\n",
              "      <td>-7.297600</td>\n",
              "      <td>6</td>\n",
              "      <td>1</td>\n",
              "      <td>1</td>\n",
              "      <td>0</td>\n",
              "      <td>1</td>\n",
              "      <td>5</td>\n",
              "      <td>1</td>\n",
              "      <td>0</td>\n",
              "      <td>8</td>\n",
              "      <td>4</td>\n",
              "      <td>2</td>\n",
              "      <td>6</td>\n",
              "      <td>1</td>\n",
              "      <td>5</td>\n",
              "      <td>0</td>\n",
              "      <td>4</td>\n",
              "    </tr>\n",
              "    <tr>\n",
              "      <th>3</th>\n",
              "      <td>0.0</td>\n",
              "      <td>873</td>\n",
              "      <td>5</td>\n",
              "      <td>0</td>\n",
              "      <td>6</td>\n",
              "      <td>31.496315</td>\n",
              "      <td>-2.167140</td>\n",
              "      <td>4</td>\n",
              "      <td>18</td>\n",
              "      <td>3</td>\n",
              "      <td>0</td>\n",
              "      <td>1</td>\n",
              "      <td>5</td>\n",
              "      <td>1</td>\n",
              "      <td>0</td>\n",
              "      <td>9</td>\n",
              "      <td>4</td>\n",
              "      <td>2</td>\n",
              "      <td>6</td>\n",
              "      <td>1</td>\n",
              "      <td>5</td>\n",
              "      <td>0</td>\n",
              "      <td>4</td>\n",
              "    </tr>\n",
              "    <tr>\n",
              "      <th>4</th>\n",
              "      <td>0.0</td>\n",
              "      <td>856</td>\n",
              "      <td>9</td>\n",
              "      <td>0</td>\n",
              "      <td>6</td>\n",
              "      <td>31.843905</td>\n",
              "      <td>-1.244841</td>\n",
              "      <td>4</td>\n",
              "      <td>18</td>\n",
              "      <td>2</td>\n",
              "      <td>0</td>\n",
              "      <td>1</td>\n",
              "      <td>5</td>\n",
              "      <td>1</td>\n",
              "      <td>0</td>\n",
              "      <td>3</td>\n",
              "      <td>4</td>\n",
              "      <td>2</td>\n",
              "      <td>6</td>\n",
              "      <td>2</td>\n",
              "      <td>3</td>\n",
              "      <td>1</td>\n",
              "      <td>1</td>\n",
              "    </tr>\n",
              "  </tbody>\n",
              "</table>\n",
              "</div>"
            ],
            "text/plain": [
              "   amount_tsh  active_days  funder  ...  source_type  source_class  waterpoint_type\n",
              "0         0.0         1012       5  ...            6             0                1\n",
              "1         0.0          961       5  ...            0             0                1\n",
              "2         0.0          982       5  ...            5             0                4\n",
              "3         0.0          873       5  ...            5             0                4\n",
              "4         0.0          856       9  ...            3             1                1\n",
              "\n",
              "[5 rows x 23 columns]"
            ]
          },
          "metadata": {
            "tags": []
          },
          "execution_count": 66
        }
      ]
    },
    {
      "cell_type": "markdown",
      "metadata": {
        "id": "zEu2fERmbfgm"
      },
      "source": [
        "#Model Selection "
      ]
    },
    {
      "cell_type": "markdown",
      "metadata": {
        "id": "L7BcqVijcMdN"
      },
      "source": [
        "Referred : https://machinelearningmastery.com/types-of-classification-in-machine-learning/ \n",
        "\n",
        "\\\\\n",
        "As we have multiclass classification required , we can use Random forest with ensembling techniques and Decision trees and  boosting (XGBoost) frameworks."
      ]
    },
    {
      "cell_type": "code",
      "metadata": {
        "colab": {
          "base_uri": "https://localhost:8080/",
          "height": 806
        },
        "id": "rwYeGGTvbYPX",
        "outputId": "43607c74-13e6-4b32-91ed-a5eeb242f0e1"
      },
      "source": [
        "#creating training dataset with labels\n",
        "from sklearn import preprocessing\n",
        "scaler = preprocessing.StandardScaler()\n",
        "scaler.fit(train_df.iloc[:,:-1])\n",
        "train_X = pd.DataFrame(scaler.transform(train_df.iloc[:,:-1]))\n",
        "train_Y = pd.DataFrame(train_df['labels'])\n",
        "display(train_X)\n",
        "display(train_Y)"
      ],
      "execution_count": null,
      "outputs": [
        {
          "output_type": "display_data",
          "data": {
            "text/html": [
              "<div>\n",
              "<style scoped>\n",
              "    .dataframe tbody tr th:only-of-type {\n",
              "        vertical-align: middle;\n",
              "    }\n",
              "\n",
              "    .dataframe tbody tr th {\n",
              "        vertical-align: top;\n",
              "    }\n",
              "\n",
              "    .dataframe thead th {\n",
              "        text-align: right;\n",
              "    }\n",
              "</style>\n",
              "<table border=\"1\" class=\"dataframe\">\n",
              "  <thead>\n",
              "    <tr style=\"text-align: right;\">\n",
              "      <th></th>\n",
              "      <th>0</th>\n",
              "      <th>1</th>\n",
              "      <th>2</th>\n",
              "      <th>3</th>\n",
              "      <th>4</th>\n",
              "      <th>5</th>\n",
              "      <th>6</th>\n",
              "      <th>7</th>\n",
              "      <th>8</th>\n",
              "      <th>9</th>\n",
              "      <th>10</th>\n",
              "      <th>11</th>\n",
              "      <th>12</th>\n",
              "      <th>13</th>\n",
              "      <th>14</th>\n",
              "      <th>15</th>\n",
              "      <th>16</th>\n",
              "      <th>17</th>\n",
              "      <th>18</th>\n",
              "      <th>19</th>\n",
              "      <th>20</th>\n",
              "      <th>21</th>\n",
              "      <th>22</th>\n",
              "    </tr>\n",
              "  </thead>\n",
              "  <tbody>\n",
              "    <tr>\n",
              "      <th>0</th>\n",
              "      <td>-0.125118</td>\n",
              "      <td>-1.070067</td>\n",
              "      <td>0.292954</td>\n",
              "      <td>0.774905</td>\n",
              "      <td>-3.959378</td>\n",
              "      <td>0.479660</td>\n",
              "      <td>0.836096</td>\n",
              "      <td>0.376080</td>\n",
              "      <td>-0.698201</td>\n",
              "      <td>-0.069823</td>\n",
              "      <td>-0.186043</td>\n",
              "      <td>0.080961</td>\n",
              "      <td>1.128714</td>\n",
              "      <td>0.452007</td>\n",
              "      <td>1.186821</td>\n",
              "      <td>-0.788919</td>\n",
              "      <td>0.341590</td>\n",
              "      <td>1.172618</td>\n",
              "      <td>0.274146</td>\n",
              "      <td>-0.404512</td>\n",
              "      <td>0.922161</td>\n",
              "      <td>-0.535294</td>\n",
              "      <td>-0.881673</td>\n",
              "    </tr>\n",
              "    <tr>\n",
              "      <th>1</th>\n",
              "      <td>-0.128031</td>\n",
              "      <td>1.200109</td>\n",
              "      <td>0.292954</td>\n",
              "      <td>1.071887</td>\n",
              "      <td>0.609234</td>\n",
              "      <td>0.081057</td>\n",
              "      <td>-1.441477</td>\n",
              "      <td>-1.240084</td>\n",
              "      <td>-0.245506</td>\n",
              "      <td>-0.069823</td>\n",
              "      <td>-0.227797</td>\n",
              "      <td>-2.578945</td>\n",
              "      <td>-1.812944</td>\n",
              "      <td>-1.408903</td>\n",
              "      <td>0.390279</td>\n",
              "      <td>-0.788919</td>\n",
              "      <td>-3.435481</td>\n",
              "      <td>-0.461708</td>\n",
              "      <td>0.274146</td>\n",
              "      <td>-0.404512</td>\n",
              "      <td>0.922161</td>\n",
              "      <td>-0.535294</td>\n",
              "      <td>-0.881673</td>\n",
              "    </tr>\n",
              "    <tr>\n",
              "      <th>2</th>\n",
              "      <td>-0.128031</td>\n",
              "      <td>-0.845445</td>\n",
              "      <td>-1.229338</td>\n",
              "      <td>1.306877</td>\n",
              "      <td>-0.913637</td>\n",
              "      <td>0.392732</td>\n",
              "      <td>0.814045</td>\n",
              "      <td>0.376080</td>\n",
              "      <td>-0.754787</td>\n",
              "      <td>-0.378335</td>\n",
              "      <td>-0.060779</td>\n",
              "      <td>0.080961</td>\n",
              "      <td>-0.342115</td>\n",
              "      <td>0.452007</td>\n",
              "      <td>1.186821</td>\n",
              "      <td>-0.788919</td>\n",
              "      <td>0.341590</td>\n",
              "      <td>-0.461708</td>\n",
              "      <td>0.274146</td>\n",
              "      <td>0.837973</td>\n",
              "      <td>0.922161</td>\n",
              "      <td>-0.535294</td>\n",
              "      <td>-0.881673</td>\n",
              "    </tr>\n",
              "    <tr>\n",
              "      <th>3</th>\n",
              "      <td>-0.128031</td>\n",
              "      <td>1.077316</td>\n",
              "      <td>-1.736769</td>\n",
              "      <td>-0.959411</td>\n",
              "      <td>0.609234</td>\n",
              "      <td>-0.069565</td>\n",
              "      <td>-1.064440</td>\n",
              "      <td>0.780121</td>\n",
              "      <td>-0.188919</td>\n",
              "      <td>-0.378335</td>\n",
              "      <td>-0.373938</td>\n",
              "      <td>0.080961</td>\n",
              "      <td>-0.342115</td>\n",
              "      <td>0.452007</td>\n",
              "      <td>-1.202806</td>\n",
              "      <td>-0.788919</td>\n",
              "      <td>0.341590</td>\n",
              "      <td>-1.551258</td>\n",
              "      <td>0.274146</td>\n",
              "      <td>0.837973</td>\n",
              "      <td>0.009729</td>\n",
              "      <td>1.777513</td>\n",
              "      <td>-0.881673</td>\n",
              "    </tr>\n",
              "    <tr>\n",
              "      <th>4</th>\n",
              "      <td>-0.003173</td>\n",
              "      <td>-1.034127</td>\n",
              "      <td>-1.736769</td>\n",
              "      <td>0.890238</td>\n",
              "      <td>0.609234</td>\n",
              "      <td>0.544769</td>\n",
              "      <td>0.695946</td>\n",
              "      <td>0.376080</td>\n",
              "      <td>-0.698201</td>\n",
              "      <td>-0.378335</td>\n",
              "      <td>-0.302956</td>\n",
              "      <td>0.080961</td>\n",
              "      <td>-0.342115</td>\n",
              "      <td>-1.408903</td>\n",
              "      <td>1.186821</td>\n",
              "      <td>-0.788919</td>\n",
              "      <td>0.341590</td>\n",
              "      <td>-1.006483</td>\n",
              "      <td>0.274146</td>\n",
              "      <td>0.837973</td>\n",
              "      <td>0.922161</td>\n",
              "      <td>-0.535294</td>\n",
              "      <td>-0.881673</td>\n",
              "    </tr>\n",
              "    <tr>\n",
              "      <th>...</th>\n",
              "      <td>...</td>\n",
              "      <td>...</td>\n",
              "      <td>...</td>\n",
              "      <td>...</td>\n",
              "      <td>...</td>\n",
              "      <td>...</td>\n",
              "      <td>...</td>\n",
              "      <td>...</td>\n",
              "      <td>...</td>\n",
              "      <td>...</td>\n",
              "      <td>...</td>\n",
              "      <td>...</td>\n",
              "      <td>...</td>\n",
              "      <td>...</td>\n",
              "      <td>...</td>\n",
              "      <td>...</td>\n",
              "      <td>...</td>\n",
              "      <td>...</td>\n",
              "      <td>...</td>\n",
              "      <td>...</td>\n",
              "      <td>...</td>\n",
              "      <td>...</td>\n",
              "      <td>...</td>\n",
              "    </tr>\n",
              "    <tr>\n",
              "      <th>44545</th>\n",
              "      <td>-0.128031</td>\n",
              "      <td>-0.902349</td>\n",
              "      <td>2.322678</td>\n",
              "      <td>-0.959411</td>\n",
              "      <td>0.609234</td>\n",
              "      <td>-0.259367</td>\n",
              "      <td>0.767892</td>\n",
              "      <td>-0.432002</td>\n",
              "      <td>0.094015</td>\n",
              "      <td>-0.275498</td>\n",
              "      <td>-0.373938</td>\n",
              "      <td>0.080961</td>\n",
              "      <td>2.109267</td>\n",
              "      <td>0.452007</td>\n",
              "      <td>-1.202806</td>\n",
              "      <td>0.396327</td>\n",
              "      <td>0.341590</td>\n",
              "      <td>1.717393</td>\n",
              "      <td>-3.061576</td>\n",
              "      <td>-0.404512</td>\n",
              "      <td>0.465945</td>\n",
              "      <td>-0.535294</td>\n",
              "      <td>0.804559</td>\n",
              "    </tr>\n",
              "    <tr>\n",
              "      <th>44546</th>\n",
              "      <td>-0.128031</td>\n",
              "      <td>0.738886</td>\n",
              "      <td>0.292954</td>\n",
              "      <td>-0.959411</td>\n",
              "      <td>0.609234</td>\n",
              "      <td>-0.376545</td>\n",
              "      <td>1.011701</td>\n",
              "      <td>-0.027961</td>\n",
              "      <td>0.150602</td>\n",
              "      <td>0.238689</td>\n",
              "      <td>-0.373938</td>\n",
              "      <td>0.080961</td>\n",
              "      <td>0.148161</td>\n",
              "      <td>0.452007</td>\n",
              "      <td>-1.202806</td>\n",
              "      <td>-1.500067</td>\n",
              "      <td>0.341590</td>\n",
              "      <td>-1.006483</td>\n",
              "      <td>0.274146</td>\n",
              "      <td>-0.404512</td>\n",
              "      <td>-1.815136</td>\n",
              "      <td>-0.535294</td>\n",
              "      <td>0.804559</td>\n",
              "    </tr>\n",
              "    <tr>\n",
              "      <th>44547</th>\n",
              "      <td>-0.128031</td>\n",
              "      <td>-0.995193</td>\n",
              "      <td>-1.229338</td>\n",
              "      <td>0.437557</td>\n",
              "      <td>0.609234</td>\n",
              "      <td>0.160212</td>\n",
              "      <td>-1.680036</td>\n",
              "      <td>1.184162</td>\n",
              "      <td>-0.302093</td>\n",
              "      <td>-0.275498</td>\n",
              "      <td>-0.248675</td>\n",
              "      <td>2.740868</td>\n",
              "      <td>-0.342115</td>\n",
              "      <td>2.312916</td>\n",
              "      <td>-0.406263</td>\n",
              "      <td>-0.788919</td>\n",
              "      <td>0.341590</td>\n",
              "      <td>1.717393</td>\n",
              "      <td>0.274146</td>\n",
              "      <td>2.080457</td>\n",
              "      <td>0.922161</td>\n",
              "      <td>-0.535294</td>\n",
              "      <td>-0.881673</td>\n",
              "    </tr>\n",
              "    <tr>\n",
              "      <th>44548</th>\n",
              "      <td>-0.044792</td>\n",
              "      <td>-1.088037</td>\n",
              "      <td>0.292954</td>\n",
              "      <td>0.870054</td>\n",
              "      <td>0.609234</td>\n",
              "      <td>0.579971</td>\n",
              "      <td>0.451404</td>\n",
              "      <td>0.376080</td>\n",
              "      <td>-0.698201</td>\n",
              "      <td>-0.275498</td>\n",
              "      <td>-0.206920</td>\n",
              "      <td>0.080961</td>\n",
              "      <td>1.618991</td>\n",
              "      <td>0.452007</td>\n",
              "      <td>1.186821</td>\n",
              "      <td>-0.788919</td>\n",
              "      <td>0.341590</td>\n",
              "      <td>-1.006483</td>\n",
              "      <td>0.274146</td>\n",
              "      <td>0.837973</td>\n",
              "      <td>0.922161</td>\n",
              "      <td>-0.535294</td>\n",
              "      <td>-0.881673</td>\n",
              "    </tr>\n",
              "    <tr>\n",
              "      <th>44549</th>\n",
              "      <td>-0.128031</td>\n",
              "      <td>-0.911334</td>\n",
              "      <td>2.322678</td>\n",
              "      <td>-0.959411</td>\n",
              "      <td>0.609234</td>\n",
              "      <td>-0.168937</td>\n",
              "      <td>0.495060</td>\n",
              "      <td>-0.432002</td>\n",
              "      <td>-0.075745</td>\n",
              "      <td>-0.481172</td>\n",
              "      <td>-0.373938</td>\n",
              "      <td>0.080961</td>\n",
              "      <td>-0.342115</td>\n",
              "      <td>-1.408903</td>\n",
              "      <td>-1.202806</td>\n",
              "      <td>0.396327</td>\n",
              "      <td>0.341590</td>\n",
              "      <td>0.083068</td>\n",
              "      <td>0.274146</td>\n",
              "      <td>-0.404512</td>\n",
              "      <td>0.465945</td>\n",
              "      <td>-0.535294</td>\n",
              "      <td>0.804559</td>\n",
              "    </tr>\n",
              "  </tbody>\n",
              "</table>\n",
              "<p>44550 rows × 23 columns</p>\n",
              "</div>"
            ],
            "text/plain": [
              "             0         1         2   ...        20        21        22\n",
              "0     -0.125118 -1.070067  0.292954  ...  0.922161 -0.535294 -0.881673\n",
              "1     -0.128031  1.200109  0.292954  ...  0.922161 -0.535294 -0.881673\n",
              "2     -0.128031 -0.845445 -1.229338  ...  0.922161 -0.535294 -0.881673\n",
              "3     -0.128031  1.077316 -1.736769  ...  0.009729  1.777513 -0.881673\n",
              "4     -0.003173 -1.034127 -1.736769  ...  0.922161 -0.535294 -0.881673\n",
              "...         ...       ...       ...  ...       ...       ...       ...\n",
              "44545 -0.128031 -0.902349  2.322678  ...  0.465945 -0.535294  0.804559\n",
              "44546 -0.128031  0.738886  0.292954  ... -1.815136 -0.535294  0.804559\n",
              "44547 -0.128031 -0.995193 -1.229338  ...  0.922161 -0.535294 -0.881673\n",
              "44548 -0.044792 -1.088037  0.292954  ...  0.922161 -0.535294 -0.881673\n",
              "44549 -0.128031 -0.911334  2.322678  ...  0.465945 -0.535294  0.804559\n",
              "\n",
              "[44550 rows x 23 columns]"
            ]
          },
          "metadata": {
            "tags": []
          }
        },
        {
          "output_type": "display_data",
          "data": {
            "text/html": [
              "<div>\n",
              "<style scoped>\n",
              "    .dataframe tbody tr th:only-of-type {\n",
              "        vertical-align: middle;\n",
              "    }\n",
              "\n",
              "    .dataframe tbody tr th {\n",
              "        vertical-align: top;\n",
              "    }\n",
              "\n",
              "    .dataframe thead th {\n",
              "        text-align: right;\n",
              "    }\n",
              "</style>\n",
              "<table border=\"1\" class=\"dataframe\">\n",
              "  <thead>\n",
              "    <tr style=\"text-align: right;\">\n",
              "      <th></th>\n",
              "      <th>labels</th>\n",
              "    </tr>\n",
              "  </thead>\n",
              "  <tbody>\n",
              "    <tr>\n",
              "      <th>0</th>\n",
              "      <td>1</td>\n",
              "    </tr>\n",
              "    <tr>\n",
              "      <th>1</th>\n",
              "      <td>1</td>\n",
              "    </tr>\n",
              "    <tr>\n",
              "      <th>2</th>\n",
              "      <td>0</td>\n",
              "    </tr>\n",
              "    <tr>\n",
              "      <th>3</th>\n",
              "      <td>1</td>\n",
              "    </tr>\n",
              "    <tr>\n",
              "      <th>4</th>\n",
              "      <td>1</td>\n",
              "    </tr>\n",
              "    <tr>\n",
              "      <th>...</th>\n",
              "      <td>...</td>\n",
              "    </tr>\n",
              "    <tr>\n",
              "      <th>44545</th>\n",
              "      <td>1</td>\n",
              "    </tr>\n",
              "    <tr>\n",
              "      <th>44546</th>\n",
              "      <td>0</td>\n",
              "    </tr>\n",
              "    <tr>\n",
              "      <th>44547</th>\n",
              "      <td>1</td>\n",
              "    </tr>\n",
              "    <tr>\n",
              "      <th>44548</th>\n",
              "      <td>1</td>\n",
              "    </tr>\n",
              "    <tr>\n",
              "      <th>44549</th>\n",
              "      <td>1</td>\n",
              "    </tr>\n",
              "  </tbody>\n",
              "</table>\n",
              "<p>44550 rows × 1 columns</p>\n",
              "</div>"
            ],
            "text/plain": [
              "       labels\n",
              "0           1\n",
              "1           1\n",
              "2           0\n",
              "3           1\n",
              "4           1\n",
              "...       ...\n",
              "44545       1\n",
              "44546       0\n",
              "44547       1\n",
              "44548       1\n",
              "44549       1\n",
              "\n",
              "[44550 rows x 1 columns]"
            ]
          },
          "metadata": {
            "tags": []
          }
        }
      ]
    },
    {
      "cell_type": "code",
      "metadata": {
        "colab": {
          "base_uri": "https://localhost:8080/"
        },
        "id": "Xm0Pg_6hel6J",
        "outputId": "7e047d30-c6d7-4e0b-9696-f1567a5c2ed0"
      },
      "source": [
        "import sklearn.model_selection as model_selection\n",
        "x_train ,x_test ,y_train, y_test = model_selection.train_test_split(train_X,train_Y,train_size=0.70) #splitting data to create validation data 70% training data rest validatation data\n",
        "print(len(x_train) , len(x_test) , len(y_train) , len(y_test))"
      ],
      "execution_count": null,
      "outputs": [
        {
          "output_type": "stream",
          "text": [
            "31184 13366 31184 13366\n"
          ],
          "name": "stdout"
        }
      ]
    },
    {
      "cell_type": "markdown",
      "metadata": {
        "id": "PNxZdL9WfrZq"
      },
      "source": [
        "#Random Forest Classifier"
      ]
    },
    {
      "cell_type": "code",
      "metadata": {
        "id": "DCu8U1eCfE24"
      },
      "source": [
        "from sklearn.ensemble import RandomForestClassifier\n",
        "from sklearn.model_selection import GridSearchCV\n",
        "from sklearn.metrics import roc_auc_score # ROC and F1 are balanced metrics\n",
        "from sklearn.metrics import classification_report"
      ],
      "execution_count": null,
      "outputs": []
    },
    {
      "cell_type": "code",
      "metadata": {
        "colab": {
          "base_uri": "https://localhost:8080/"
        },
        "id": "Y0mne34mgdWz",
        "outputId": "e3123a36-1ff5-48a8-d070-977a45d890c8"
      },
      "source": [
        "#defining parameters for cross validation using grid search\n",
        "n_estimators =[50, 100, 1000] #no. of tress\n",
        "criterion = ['gini', 'entropy'] #error types\n",
        "max_depth = [2,5,10] #The maximum depth of the tree.\n",
        "\n",
        "parameter_grid = {'n_estimators' : n_estimators , 'criterion' : criterion , 'max_depth' : max_depth}\n",
        "\n",
        "print(parameter_grid.keys())"
      ],
      "execution_count": null,
      "outputs": [
        {
          "output_type": "stream",
          "text": [
            "dict_keys(['n_estimators', 'criterion', 'max_depth'])\n"
          ],
          "name": "stdout"
        }
      ]
    },
    {
      "cell_type": "code",
      "metadata": {
        "id": "xOmRMUopkffV"
      },
      "source": [
        "rfc = RandomForestClassifier()"
      ],
      "execution_count": null,
      "outputs": []
    },
    {
      "cell_type": "code",
      "metadata": {
        "id": "v1SaWimIiIMJ",
        "colab": {
          "base_uri": "https://localhost:8080/"
        },
        "outputId": "3104336d-b9d8-44ad-8227-d9ef1518c6ee"
      },
      "source": [
        "#grid search for best parameters\n",
        "rfc_grid = rfc_grid = GridSearchCV(estimator = rfc, param_grid = parameter_grid , cv = 3 ,n_jobs = 5)\n",
        "rfc_grid.fit(np.array(x_train) , np.squeeze(y_train))"
      ],
      "execution_count": null,
      "outputs": [
        {
          "output_type": "execute_result",
          "data": {
            "text/plain": [
              "GridSearchCV(cv=3, error_score=nan,\n",
              "             estimator=RandomForestClassifier(bootstrap=True, ccp_alpha=0.0,\n",
              "                                              class_weight=None,\n",
              "                                              criterion='gini', max_depth=None,\n",
              "                                              max_features='auto',\n",
              "                                              max_leaf_nodes=None,\n",
              "                                              max_samples=None,\n",
              "                                              min_impurity_decrease=0.0,\n",
              "                                              min_impurity_split=None,\n",
              "                                              min_samples_leaf=1,\n",
              "                                              min_samples_split=2,\n",
              "                                              min_weight_fraction_leaf=0.0,\n",
              "                                              n_estimators=100, n_jobs=None,\n",
              "                                              oob_score=False,\n",
              "                                              random_state=None, verbose=0,\n",
              "                                              warm_start=False),\n",
              "             iid='deprecated', n_jobs=5,\n",
              "             param_grid={'criterion': ['gini', 'entropy'],\n",
              "                         'max_depth': [2, 5, 10],\n",
              "                         'n_estimators': [50, 100, 1000]},\n",
              "             pre_dispatch='2*n_jobs', refit=True, return_train_score=False,\n",
              "             scoring=None, verbose=0)"
            ]
          },
          "metadata": {
            "tags": []
          },
          "execution_count": 72
        }
      ]
    },
    {
      "cell_type": "markdown",
      "metadata": {
        "id": "Pwr62hPOZMVy"
      },
      "source": [
        "$\\textbf{generating best hyperparameter by gridsearch}$"
      ]
    },
    {
      "cell_type": "code",
      "metadata": {
        "id": "VEyelAhJi_Z2",
        "colab": {
          "base_uri": "https://localhost:8080/"
        },
        "outputId": "0dfde8a4-4001-45b5-c325-e4576682a1b8"
      },
      "source": [
        "print(\"best parameters from grid search are :\", rfc_grid.best_params_)\n",
        "print('Best Score for training data' + \" :\" + str(rfc_grid.best_score_))\n",
        " \n",
        "print('Test Classification  report')\n",
        "y_true,y_pred = np.squeeze(y_test) , rfc_grid.predict(np.array(x_test))\n",
        "print(classification_report(y_true,y_pred))\n"
      ],
      "execution_count": null,
      "outputs": [
        {
          "output_type": "stream",
          "text": [
            "best parameters from grid search are : {'criterion': 'gini', 'max_depth': 10, 'n_estimators': 1000}\n",
            "Best Score for training data :0.75564379913684\n",
            "Test Classification  report\n",
            "              precision    recall  f1-score   support\n",
            "\n",
            "           0       0.88      0.60      0.72      5148\n",
            "           1       0.71      0.95      0.82      7279\n",
            "           2       0.69      0.06      0.11       939\n",
            "\n",
            "    accuracy                           0.76     13366\n",
            "   macro avg       0.76      0.54      0.55     13366\n",
            "weighted avg       0.78      0.76      0.73     13366\n",
            "\n"
          ],
          "name": "stdout"
        }
      ]
    },
    {
      "cell_type": "markdown",
      "metadata": {
        "id": "vDDR90YW12Lb"
      },
      "source": [
        "$\\large \\textbf{Importance of feature and feature selection and elimination}$ \\\\\n",
        "referred : https://machinelearningmastery.com/calculate-feature-importance-with-python/"
      ]
    },
    {
      "cell_type": "code",
      "metadata": {
        "colab": {
          "base_uri": "https://localhost:8080/",
          "height": 666
        },
        "id": "z4lCwzjEy-S3",
        "outputId": "5d38f618-998c-41a4-f0e2-66991ef0dbfb"
      },
      "source": [
        "rfc.fit(np.array(x_train), np.squeeze(y_train))\n",
        "importance = rfc.feature_importances_\n",
        "for i,v in enumerate(importance):\n",
        "\tprint('Feature: %0d, Score: %.5f' % (i,v))\n",
        "# plot feature importance\n",
        "plt.bar([x for x in range(len(importance))], importance)\n",
        "plt.xlabel('features')\n",
        "plt.ylabel('importance')\n",
        "plt.show()"
      ],
      "execution_count": null,
      "outputs": [
        {
          "output_type": "stream",
          "text": [
            "Feature: 0, Score: 0.02869\n",
            "Feature: 1, Score: 0.08262\n",
            "Feature: 2, Score: 0.02803\n",
            "Feature: 3, Score: 0.06982\n",
            "Feature: 4, Score: 0.01788\n",
            "Feature: 5, Score: 0.13622\n",
            "Feature: 6, Score: 0.13462\n",
            "Feature: 7, Score: 0.01705\n",
            "Feature: 8, Score: 0.02199\n",
            "Feature: 9, Score: 0.02511\n",
            "Feature: 10, Score: 0.04878\n",
            "Feature: 11, Score: 0.01174\n",
            "Feature: 12, Score: 0.01956\n",
            "Feature: 13, Score: 0.01109\n",
            "Feature: 14, Score: 0.02299\n",
            "Feature: 15, Score: 0.03905\n",
            "Feature: 16, Score: 0.00955\n",
            "Feature: 17, Score: 0.02631\n",
            "Feature: 18, Score: 0.01709\n",
            "Feature: 19, Score: 0.13450\n",
            "Feature: 20, Score: 0.02197\n",
            "Feature: 21, Score: 0.00771\n",
            "Feature: 22, Score: 0.06765\n"
          ],
          "name": "stdout"
        },
        {
          "output_type": "display_data",
          "data": {
            "image/png": "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\n",
            "text/plain": [
              "<Figure size 432x288 with 1 Axes>"
            ]
          },
          "metadata": {
            "tags": [],
            "needs_background": "light"
          }
        }
      ]
    },
    {
      "cell_type": "markdown",
      "metadata": {
        "id": "E0nRmDBl2NnY"
      },
      "source": [
        "$\\textbf{feature 21 seems to be less important of all and feature 5 and 6 seems to be of most importance.}$"
      ]
    },
    {
      "cell_type": "code",
      "metadata": {
        "colab": {
          "base_uri": "https://localhost:8080/",
          "height": 215
        },
        "id": "v2IWBmdqzbtd",
        "outputId": "c23caef0-90f7-4db6-82bf-74013c4a0564"
      },
      "source": [
        "new_data = train_X.copy()\n",
        "new_data.head()"
      ],
      "execution_count": null,
      "outputs": [
        {
          "output_type": "execute_result",
          "data": {
            "text/html": [
              "<div>\n",
              "<style scoped>\n",
              "    .dataframe tbody tr th:only-of-type {\n",
              "        vertical-align: middle;\n",
              "    }\n",
              "\n",
              "    .dataframe tbody tr th {\n",
              "        vertical-align: top;\n",
              "    }\n",
              "\n",
              "    .dataframe thead th {\n",
              "        text-align: right;\n",
              "    }\n",
              "</style>\n",
              "<table border=\"1\" class=\"dataframe\">\n",
              "  <thead>\n",
              "    <tr style=\"text-align: right;\">\n",
              "      <th></th>\n",
              "      <th>0</th>\n",
              "      <th>1</th>\n",
              "      <th>2</th>\n",
              "      <th>3</th>\n",
              "      <th>4</th>\n",
              "      <th>5</th>\n",
              "      <th>6</th>\n",
              "      <th>7</th>\n",
              "      <th>8</th>\n",
              "      <th>9</th>\n",
              "      <th>10</th>\n",
              "      <th>11</th>\n",
              "      <th>12</th>\n",
              "      <th>13</th>\n",
              "      <th>14</th>\n",
              "      <th>15</th>\n",
              "      <th>16</th>\n",
              "      <th>17</th>\n",
              "      <th>18</th>\n",
              "      <th>19</th>\n",
              "      <th>20</th>\n",
              "      <th>21</th>\n",
              "      <th>22</th>\n",
              "    </tr>\n",
              "  </thead>\n",
              "  <tbody>\n",
              "    <tr>\n",
              "      <th>0</th>\n",
              "      <td>-0.125118</td>\n",
              "      <td>-1.070067</td>\n",
              "      <td>0.292954</td>\n",
              "      <td>0.774905</td>\n",
              "      <td>-3.959378</td>\n",
              "      <td>0.479660</td>\n",
              "      <td>0.836096</td>\n",
              "      <td>0.376080</td>\n",
              "      <td>-0.698201</td>\n",
              "      <td>-0.069823</td>\n",
              "      <td>-0.186043</td>\n",
              "      <td>0.080961</td>\n",
              "      <td>1.128714</td>\n",
              "      <td>0.452007</td>\n",
              "      <td>1.186821</td>\n",
              "      <td>-0.788919</td>\n",
              "      <td>0.341590</td>\n",
              "      <td>1.172618</td>\n",
              "      <td>0.274146</td>\n",
              "      <td>-0.404512</td>\n",
              "      <td>0.922161</td>\n",
              "      <td>-0.535294</td>\n",
              "      <td>-0.881673</td>\n",
              "    </tr>\n",
              "    <tr>\n",
              "      <th>1</th>\n",
              "      <td>-0.128031</td>\n",
              "      <td>1.200109</td>\n",
              "      <td>0.292954</td>\n",
              "      <td>1.071887</td>\n",
              "      <td>0.609234</td>\n",
              "      <td>0.081057</td>\n",
              "      <td>-1.441477</td>\n",
              "      <td>-1.240084</td>\n",
              "      <td>-0.245506</td>\n",
              "      <td>-0.069823</td>\n",
              "      <td>-0.227797</td>\n",
              "      <td>-2.578945</td>\n",
              "      <td>-1.812944</td>\n",
              "      <td>-1.408903</td>\n",
              "      <td>0.390279</td>\n",
              "      <td>-0.788919</td>\n",
              "      <td>-3.435481</td>\n",
              "      <td>-0.461708</td>\n",
              "      <td>0.274146</td>\n",
              "      <td>-0.404512</td>\n",
              "      <td>0.922161</td>\n",
              "      <td>-0.535294</td>\n",
              "      <td>-0.881673</td>\n",
              "    </tr>\n",
              "    <tr>\n",
              "      <th>2</th>\n",
              "      <td>-0.128031</td>\n",
              "      <td>-0.845445</td>\n",
              "      <td>-1.229338</td>\n",
              "      <td>1.306877</td>\n",
              "      <td>-0.913637</td>\n",
              "      <td>0.392732</td>\n",
              "      <td>0.814045</td>\n",
              "      <td>0.376080</td>\n",
              "      <td>-0.754787</td>\n",
              "      <td>-0.378335</td>\n",
              "      <td>-0.060779</td>\n",
              "      <td>0.080961</td>\n",
              "      <td>-0.342115</td>\n",
              "      <td>0.452007</td>\n",
              "      <td>1.186821</td>\n",
              "      <td>-0.788919</td>\n",
              "      <td>0.341590</td>\n",
              "      <td>-0.461708</td>\n",
              "      <td>0.274146</td>\n",
              "      <td>0.837973</td>\n",
              "      <td>0.922161</td>\n",
              "      <td>-0.535294</td>\n",
              "      <td>-0.881673</td>\n",
              "    </tr>\n",
              "    <tr>\n",
              "      <th>3</th>\n",
              "      <td>-0.128031</td>\n",
              "      <td>1.077316</td>\n",
              "      <td>-1.736769</td>\n",
              "      <td>-0.959411</td>\n",
              "      <td>0.609234</td>\n",
              "      <td>-0.069565</td>\n",
              "      <td>-1.064440</td>\n",
              "      <td>0.780121</td>\n",
              "      <td>-0.188919</td>\n",
              "      <td>-0.378335</td>\n",
              "      <td>-0.373938</td>\n",
              "      <td>0.080961</td>\n",
              "      <td>-0.342115</td>\n",
              "      <td>0.452007</td>\n",
              "      <td>-1.202806</td>\n",
              "      <td>-0.788919</td>\n",
              "      <td>0.341590</td>\n",
              "      <td>-1.551258</td>\n",
              "      <td>0.274146</td>\n",
              "      <td>0.837973</td>\n",
              "      <td>0.009729</td>\n",
              "      <td>1.777513</td>\n",
              "      <td>-0.881673</td>\n",
              "    </tr>\n",
              "    <tr>\n",
              "      <th>4</th>\n",
              "      <td>-0.003173</td>\n",
              "      <td>-1.034127</td>\n",
              "      <td>-1.736769</td>\n",
              "      <td>0.890238</td>\n",
              "      <td>0.609234</td>\n",
              "      <td>0.544769</td>\n",
              "      <td>0.695946</td>\n",
              "      <td>0.376080</td>\n",
              "      <td>-0.698201</td>\n",
              "      <td>-0.378335</td>\n",
              "      <td>-0.302956</td>\n",
              "      <td>0.080961</td>\n",
              "      <td>-0.342115</td>\n",
              "      <td>-1.408903</td>\n",
              "      <td>1.186821</td>\n",
              "      <td>-0.788919</td>\n",
              "      <td>0.341590</td>\n",
              "      <td>-1.006483</td>\n",
              "      <td>0.274146</td>\n",
              "      <td>0.837973</td>\n",
              "      <td>0.922161</td>\n",
              "      <td>-0.535294</td>\n",
              "      <td>-0.881673</td>\n",
              "    </tr>\n",
              "  </tbody>\n",
              "</table>\n",
              "</div>"
            ],
            "text/plain": [
              "         0         1         2   ...        20        21        22\n",
              "0 -0.125118 -1.070067  0.292954  ...  0.922161 -0.535294 -0.881673\n",
              "1 -0.128031  1.200109  0.292954  ...  0.922161 -0.535294 -0.881673\n",
              "2 -0.128031 -0.845445 -1.229338  ...  0.922161 -0.535294 -0.881673\n",
              "3 -0.128031  1.077316 -1.736769  ...  0.009729  1.777513 -0.881673\n",
              "4 -0.003173 -1.034127 -1.736769  ...  0.922161 -0.535294 -0.881673\n",
              "\n",
              "[5 rows x 23 columns]"
            ]
          },
          "metadata": {
            "tags": []
          },
          "execution_count": 96
        }
      ]
    },
    {
      "cell_type": "code",
      "metadata": {
        "id": "UnEWA-gg2ILs"
      },
      "source": [
        "#removing feature 21\n",
        "new_data = new_data.drop([21],axis = 1)"
      ],
      "execution_count": null,
      "outputs": []
    },
    {
      "cell_type": "code",
      "metadata": {
        "colab": {
          "base_uri": "https://localhost:8080/",
          "height": 126
        },
        "id": "zfNWs7Ck23_c",
        "outputId": "ba31cbcf-8f36-4110-e784-14bc7780300b"
      },
      "source": [
        "new_data.head(2)"
      ],
      "execution_count": null,
      "outputs": [
        {
          "output_type": "execute_result",
          "data": {
            "text/html": [
              "<div>\n",
              "<style scoped>\n",
              "    .dataframe tbody tr th:only-of-type {\n",
              "        vertical-align: middle;\n",
              "    }\n",
              "\n",
              "    .dataframe tbody tr th {\n",
              "        vertical-align: top;\n",
              "    }\n",
              "\n",
              "    .dataframe thead th {\n",
              "        text-align: right;\n",
              "    }\n",
              "</style>\n",
              "<table border=\"1\" class=\"dataframe\">\n",
              "  <thead>\n",
              "    <tr style=\"text-align: right;\">\n",
              "      <th></th>\n",
              "      <th>0</th>\n",
              "      <th>1</th>\n",
              "      <th>2</th>\n",
              "      <th>3</th>\n",
              "      <th>4</th>\n",
              "      <th>5</th>\n",
              "      <th>6</th>\n",
              "      <th>7</th>\n",
              "      <th>8</th>\n",
              "      <th>9</th>\n",
              "      <th>10</th>\n",
              "      <th>11</th>\n",
              "      <th>12</th>\n",
              "      <th>13</th>\n",
              "      <th>14</th>\n",
              "      <th>15</th>\n",
              "      <th>16</th>\n",
              "      <th>17</th>\n",
              "      <th>18</th>\n",
              "      <th>19</th>\n",
              "      <th>20</th>\n",
              "      <th>22</th>\n",
              "    </tr>\n",
              "  </thead>\n",
              "  <tbody>\n",
              "    <tr>\n",
              "      <th>0</th>\n",
              "      <td>-0.125118</td>\n",
              "      <td>-1.070067</td>\n",
              "      <td>0.292954</td>\n",
              "      <td>0.774905</td>\n",
              "      <td>-3.959378</td>\n",
              "      <td>0.479660</td>\n",
              "      <td>0.836096</td>\n",
              "      <td>0.376080</td>\n",
              "      <td>-0.698201</td>\n",
              "      <td>-0.069823</td>\n",
              "      <td>-0.186043</td>\n",
              "      <td>0.080961</td>\n",
              "      <td>1.128714</td>\n",
              "      <td>0.452007</td>\n",
              "      <td>1.186821</td>\n",
              "      <td>-0.788919</td>\n",
              "      <td>0.341590</td>\n",
              "      <td>1.172618</td>\n",
              "      <td>0.274146</td>\n",
              "      <td>-0.404512</td>\n",
              "      <td>0.922161</td>\n",
              "      <td>-0.881673</td>\n",
              "    </tr>\n",
              "    <tr>\n",
              "      <th>1</th>\n",
              "      <td>-0.128031</td>\n",
              "      <td>1.200109</td>\n",
              "      <td>0.292954</td>\n",
              "      <td>1.071887</td>\n",
              "      <td>0.609234</td>\n",
              "      <td>0.081057</td>\n",
              "      <td>-1.441477</td>\n",
              "      <td>-1.240084</td>\n",
              "      <td>-0.245506</td>\n",
              "      <td>-0.069823</td>\n",
              "      <td>-0.227797</td>\n",
              "      <td>-2.578945</td>\n",
              "      <td>-1.812944</td>\n",
              "      <td>-1.408903</td>\n",
              "      <td>0.390279</td>\n",
              "      <td>-0.788919</td>\n",
              "      <td>-3.435481</td>\n",
              "      <td>-0.461708</td>\n",
              "      <td>0.274146</td>\n",
              "      <td>-0.404512</td>\n",
              "      <td>0.922161</td>\n",
              "      <td>-0.881673</td>\n",
              "    </tr>\n",
              "  </tbody>\n",
              "</table>\n",
              "</div>"
            ],
            "text/plain": [
              "         0         1         2   ...        19        20        22\n",
              "0 -0.125118 -1.070067  0.292954  ... -0.404512  0.922161 -0.881673\n",
              "1 -0.128031  1.200109  0.292954  ... -0.404512  0.922161 -0.881673\n",
              "\n",
              "[2 rows x 22 columns]"
            ]
          },
          "metadata": {
            "tags": []
          },
          "execution_count": 101
        }
      ]
    },
    {
      "cell_type": "code",
      "metadata": {
        "id": "8blrjkFK3FnM"
      },
      "source": [
        "x_train1 ,x_test1 ,y_train1, y_test1 = model_selection.train_test_split(new_data ,train_Y,train_size=0.70) #splitting data to create validation data 70% training data rest validatation data\n"
      ],
      "execution_count": null,
      "outputs": []
    },
    {
      "cell_type": "code",
      "metadata": {
        "colab": {
          "base_uri": "https://localhost:8080/"
        },
        "id": "P7KUwYxP3iuP",
        "outputId": "d80757ce-0e50-4100-d579-80f6de893aff"
      },
      "source": [
        "rfc_grid.fit(np.array(x_train1) , np.squeeze(y_train1))\n",
        "print('Best Score for training data' + \" :\" + str(rfc_grid.best_score_))\n",
        " \n",
        "print('Test Classification  report')\n",
        "y_true,y_pred = np.squeeze(y_test1) , rfc_grid.predict(np.array(x_test1))\n",
        "print(classification_report(y_true,y_pred))"
      ],
      "execution_count": null,
      "outputs": [
        {
          "output_type": "stream",
          "text": [
            "Best Score for training data :0.7563494454457188\n",
            "Test Classification  report\n",
            "              precision    recall  f1-score   support\n",
            "\n",
            "           0       0.88      0.61      0.72      5120\n",
            "           1       0.72      0.96      0.82      7292\n",
            "           2       0.73      0.07      0.12       954\n",
            "\n",
            "    accuracy                           0.76     13366\n",
            "   macro avg       0.78      0.55      0.56     13366\n",
            "weighted avg       0.78      0.76      0.73     13366\n",
            "\n"
          ],
          "name": "stdout"
        }
      ]
    },
    {
      "cell_type": "markdown",
      "metadata": {
        "id": "1zFGwr555r0c"
      },
      "source": [
        "$\\text{after removing one feature the f1 score for predicting non functinal is slightly improved.} \n",
        "\\\\ \\text{There is no much increase in f1 score but weighted avg accuracy is increased after feature elimination. }$"
      ]
    },
    {
      "cell_type": "markdown",
      "metadata": {
        "id": "l8yT7ZRB4RxM"
      },
      "source": [
        "#XGBoost\n",
        "\n",
        "XGBoost is an implementation of gradient boosted decision trees designed for speed and performance. XGBoost is also a tree based method and uses boosting like gradient boosting method.My hypothesis is that it will work better than RF as uses boosting technique.\n",
        "\n",
        "referred :\n",
        "\n",
        "\n",
        "1.   https://www.datacamp.com/community/tutorials/xgboost-in-python \n",
        "2.   https://www.analyticsvidhya.com/blog/2016/03/complete-guide-parameter-tuning-xgboost-with-codes-python/\n"
      ]
    },
    {
      "cell_type": "code",
      "metadata": {
        "id": "P_XAQHQU4Upb"
      },
      "source": [
        "from xgboost import XGBClassifier\n",
        "xgb = XGBClassifier()"
      ],
      "execution_count": null,
      "outputs": []
    },
    {
      "cell_type": "code",
      "metadata": {
        "colab": {
          "base_uri": "https://localhost:8080/"
        },
        "id": "KqN3HZJ38haY",
        "outputId": "bb218c3c-1e77-41ad-ef33-2873a99e37ed"
      },
      "source": [
        "n_estimators =[50, 100, 1000] #no. of tress\n",
        "gamma = [0.1,0.2]\n",
        "max_depth = [2,5] #The maximum depth of the tree.\n",
        "\n",
        "parameter_grid = {'n_estimators' : n_estimators , 'max_depth' : max_depth , 'gamma' : gamma}\n",
        "\n",
        "print(parameter_grid.keys())"
      ],
      "execution_count": null,
      "outputs": [
        {
          "output_type": "stream",
          "text": [
            "dict_keys(['n_estimators', 'max_depth', 'gamma'])\n"
          ],
          "name": "stdout"
        }
      ]
    },
    {
      "cell_type": "markdown",
      "metadata": {
        "id": "3tyyEfruaGZz"
      },
      "source": [
        "$\\textbf{hyperparameter tuning using grid search}$"
      ]
    },
    {
      "cell_type": "code",
      "metadata": {
        "colab": {
          "base_uri": "https://localhost:8080/"
        },
        "id": "p8Oo3_6f9OPi",
        "outputId": "33df4a5c-4264-4cfc-d6c4-38eac8a0f1a2"
      },
      "source": [
        "#grid search for best parameters\n",
        "xgb_grid =  GridSearchCV(estimator = xgb, param_grid = parameter_grid , cv = 3 ,n_jobs = 5)\n",
        "xgb_grid.fit(np.array(x_train) , np.squeeze(y_train))"
      ],
      "execution_count": null,
      "outputs": [
        {
          "output_type": "execute_result",
          "data": {
            "text/plain": [
              "GridSearchCV(cv=3, error_score=nan,\n",
              "             estimator=XGBClassifier(base_score=0.5, booster='gbtree',\n",
              "                                     colsample_bylevel=1, colsample_bynode=1,\n",
              "                                     colsample_bytree=1, gamma=0,\n",
              "                                     learning_rate=0.1, max_delta_step=0,\n",
              "                                     max_depth=3, min_child_weight=1,\n",
              "                                     missing=None, n_estimators=100, n_jobs=1,\n",
              "                                     nthread=None, objective='binary:logistic',\n",
              "                                     random_state=0, reg_alpha=0, reg_lambda=1,\n",
              "                                     scale_pos_weight=1, seed=None, silent=None,\n",
              "                                     subsample=1, verbosity=1),\n",
              "             iid='deprecated', n_jobs=5,\n",
              "             param_grid={'gamma': [0.1, 0.2], 'max_depth': [2, 5],\n",
              "                         'n_estimators': [50, 100, 1000]},\n",
              "             pre_dispatch='2*n_jobs', refit=True, return_train_score=False,\n",
              "             scoring=None, verbose=0)"
            ]
          },
          "metadata": {
            "tags": []
          },
          "execution_count": 110
        }
      ]
    },
    {
      "cell_type": "code",
      "metadata": {
        "colab": {
          "base_uri": "https://localhost:8080/"
        },
        "id": "HSE-l6He-Jkd",
        "outputId": "e709cf06-c3e3-4106-f75d-8133aaa7c3ea"
      },
      "source": [
        "print(\"best parameters from grid search are :\", xgb_grid.best_params_)\n",
        "print('Best Score for training data' + \" :\" + str(xgb_grid.best_score_))\n",
        "print('Test Classification  report')\n",
        "y_true,y_pred = np.squeeze(y_test) , xgb_grid.predict(np.array(x_test))\n",
        "print(classification_report(y_true,y_pred))"
      ],
      "execution_count": null,
      "outputs": [
        {
          "output_type": "stream",
          "text": [
            "best parameters from grid search are : {'gamma': 0.1, 'max_depth': 5, 'n_estimators': 1000}\n",
            "Best Score for training data :0.7889622375287182\n",
            "Test Classification  report\n",
            "              precision    recall  f1-score   support\n",
            "\n",
            "           0       0.83      0.75      0.79      5148\n",
            "           1       0.79      0.89      0.83      7279\n",
            "           2       0.52      0.27      0.36       939\n",
            "\n",
            "    accuracy                           0.79     13366\n",
            "   macro avg       0.71      0.64      0.66     13366\n",
            "weighted avg       0.78      0.79      0.78     13366\n",
            "\n"
          ],
          "name": "stdout"
        }
      ]
    },
    {
      "cell_type": "markdown",
      "metadata": {
        "id": "TvTxtqEDCRZl"
      },
      "source": [
        "$\\textbf{finding feature importance}$"
      ]
    },
    {
      "cell_type": "code",
      "metadata": {
        "colab": {
          "base_uri": "https://localhost:8080/",
          "height": 666
        },
        "id": "XDh_l4hqBZus",
        "outputId": "3fc7ece3-a6e5-4f45-e977-dffb94f229eb"
      },
      "source": [
        "xgb.fit(np.array(x_train), np.squeeze(y_train))\n",
        "importance = xgb.feature_importances_\n",
        "for i,v in enumerate(importance):\n",
        "\tprint('Feature: %0d, Score: %.5f' % (i,v))\n",
        "# plot feature importance\n",
        "plt.bar([x for x in range(len(importance))], importance)\n",
        "plt.xlabel('features')\n",
        "plt.ylabel('importance')\n",
        "plt.show()"
      ],
      "execution_count": null,
      "outputs": [
        {
          "output_type": "stream",
          "text": [
            "Feature: 0, Score: 0.08046\n",
            "Feature: 1, Score: 0.01827\n",
            "Feature: 2, Score: 0.03097\n",
            "Feature: 3, Score: 0.02320\n",
            "Feature: 4, Score: 0.02699\n",
            "Feature: 5, Score: 0.03414\n",
            "Feature: 6, Score: 0.01333\n",
            "Feature: 7, Score: 0.02838\n",
            "Feature: 8, Score: 0.02531\n",
            "Feature: 9, Score: 0.01747\n",
            "Feature: 10, Score: 0.01889\n",
            "Feature: 11, Score: 0.02340\n",
            "Feature: 12, Score: 0.01385\n",
            "Feature: 13, Score: 0.01266\n",
            "Feature: 14, Score: 0.04970\n",
            "Feature: 15, Score: 0.04119\n",
            "Feature: 16, Score: 0.01420\n",
            "Feature: 17, Score: 0.02494\n",
            "Feature: 18, Score: 0.01699\n",
            "Feature: 19, Score: 0.26150\n",
            "Feature: 20, Score: 0.03536\n",
            "Feature: 21, Score: 0.02397\n",
            "Feature: 22, Score: 0.16483\n"
          ],
          "name": "stdout"
        },
        {
          "output_type": "display_data",
          "data": {
            "image/png": "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\n",
            "text/plain": [
              "<Figure size 432x288 with 1 Axes>"
            ]
          },
          "metadata": {
            "tags": [],
            "needs_background": "light"
          }
        }
      ]
    },
    {
      "cell_type": "markdown",
      "metadata": {
        "id": "d-K4Ma4-Fx3F"
      },
      "source": [
        "$\\large \\textbf{feature 13 seems to be less important of all and feature 19 seems to be of most importance.}$"
      ]
    },
    {
      "cell_type": "code",
      "metadata": {
        "id": "0QR9e2i8FlEz"
      },
      "source": [
        "new_data1 = train_X.copy()\n",
        "new_data1 = new_data1.drop([13],axis = 1)\n",
        "x_train1 ,x_test1 ,y_train1, y_test1 = model_selection.train_test_split(new_data1 ,train_Y,train_size=0.70) #splitting data to create validation data 70% training data rest validatation data\n"
      ],
      "execution_count": null,
      "outputs": []
    },
    {
      "cell_type": "code",
      "metadata": {
        "id": "xVzBaG46J8s4"
      },
      "source": [
        "xgb_grid.fit(np.array(x_train1) , np.squeeze(y_train1))"
      ],
      "execution_count": null,
      "outputs": []
    },
    {
      "cell_type": "code",
      "metadata": {
        "colab": {
          "base_uri": "https://localhost:8080/"
        },
        "id": "Yiw-ufv3JXxN",
        "outputId": "ae4090f6-e000-43c2-da2e-d19aef203241"
      },
      "source": [
        "print('Best Score for training data' + \" :\" + str(xgb_grid.best_score_))\n",
        " \n",
        "print('Test Classification  report')\n",
        "y_true,y_pred = np.squeeze(y_test1) , xgb_grid.predict(np.array(x_test1))\n",
        "print(classification_report(y_true,y_pred))"
      ],
      "execution_count": null,
      "outputs": [
        {
          "output_type": "stream",
          "text": [
            "Best Score for training data :0.7858839084931061\n",
            "Test Classification  report\n",
            "              precision    recall  f1-score   support\n",
            "\n",
            "           0       0.84      0.75      0.79      5112\n",
            "           1       0.79      0.90      0.84      7299\n",
            "           2       0.57      0.28      0.38       955\n",
            "\n",
            "    accuracy                           0.80     13366\n",
            "   macro avg       0.73      0.64      0.67     13366\n",
            "weighted avg       0.79      0.80      0.79     13366\n",
            "\n"
          ],
          "name": "stdout"
        }
      ]
    },
    {
      "cell_type": "markdown",
      "metadata": {
        "id": "R3nh1EhKJgeR"
      },
      "source": [
        "$\\large \\text{accuracy increased after removing one feature of least importance.}$"
      ]
    },
    {
      "cell_type": "markdown",
      "metadata": {
        "id": "cjiXkS8eHlST"
      },
      "source": [
        "#Decision Tree Classifier\n",
        "referred : https://scikit-learn.org/stable/modules/generated/sklearn.tree.DecisionTreeClassifier.html"
      ]
    },
    {
      "cell_type": "code",
      "metadata": {
        "id": "-KARx9xTGafE"
      },
      "source": [
        "from sklearn.tree import DecisionTreeClassifier\n",
        "dtc = DecisionTreeClassifier()"
      ],
      "execution_count": null,
      "outputs": []
    },
    {
      "cell_type": "code",
      "metadata": {
        "colab": {
          "base_uri": "https://localhost:8080/"
        },
        "id": "JdvnoM9BKfXk",
        "outputId": "fcd00c77-5974-4eb9-bcf6-9e31aeb9bd2a"
      },
      "source": [
        "criterion = ['gini', 'entropy']\n",
        "max_depth = [2, 5 , 10] #The maximum depth of the tree.\n",
        "\n",
        "parameter_grid = {'criterion' : criterion, 'max_depth' : max_depth }\n",
        "\n",
        "print(parameter_grid.keys())"
      ],
      "execution_count": null,
      "outputs": [
        {
          "output_type": "stream",
          "text": [
            "dict_keys(['criterion', 'max_depth'])\n"
          ],
          "name": "stdout"
        }
      ]
    },
    {
      "cell_type": "code",
      "metadata": {
        "colab": {
          "base_uri": "https://localhost:8080/"
        },
        "id": "z1nDf4Q-K6gY",
        "outputId": "15cfe67a-05d7-400d-cb64-1164a3f92f89"
      },
      "source": [
        "#grid search for best parameters\n",
        "dtc_grid =  GridSearchCV(estimator = dtc , param_grid = parameter_grid , cv = 3 ,n_jobs = 5)\n",
        "dtc_grid.fit(np.array(x_train) , np.squeeze(y_train))"
      ],
      "execution_count": null,
      "outputs": [
        {
          "output_type": "execute_result",
          "data": {
            "text/plain": [
              "GridSearchCV(cv=3, error_score=nan,\n",
              "             estimator=DecisionTreeClassifier(ccp_alpha=0.0, class_weight=None,\n",
              "                                              criterion='gini', max_depth=None,\n",
              "                                              max_features=None,\n",
              "                                              max_leaf_nodes=None,\n",
              "                                              min_impurity_decrease=0.0,\n",
              "                                              min_impurity_split=None,\n",
              "                                              min_samples_leaf=1,\n",
              "                                              min_samples_split=2,\n",
              "                                              min_weight_fraction_leaf=0.0,\n",
              "                                              presort='deprecated',\n",
              "                                              random_state=None,\n",
              "                                              splitter='best'),\n",
              "             iid='deprecated', n_jobs=5,\n",
              "             param_grid={'criterion': ['gini', 'entropy'],\n",
              "                         'max_depth': [2, 5, 10]},\n",
              "             pre_dispatch='2*n_jobs', refit=True, return_train_score=False,\n",
              "             scoring=None, verbose=0)"
            ]
          },
          "metadata": {
            "tags": []
          },
          "execution_count": 140
        }
      ]
    },
    {
      "cell_type": "code",
      "metadata": {
        "colab": {
          "base_uri": "https://localhost:8080/"
        },
        "id": "hVr07TnSLQYx",
        "outputId": "d26602ea-a492-4756-8975-7d5dee6ea983"
      },
      "source": [
        "print('Best Score for training data' + \" :\" + str(dtc_grid.best_score_))\n",
        " \n",
        "print('Test Classification  report')\n",
        "y_true,y_pred = np.squeeze(y_test) , dtc_grid.predict(np.array(x_test))\n",
        "print(classification_report(y_true,y_pred))"
      ],
      "execution_count": null,
      "outputs": [
        {
          "output_type": "stream",
          "text": [
            "Best Score for training data :0.7362748498018846\n",
            "Test Classification  report\n",
            "              precision    recall  f1-score   support\n",
            "\n",
            "           0       0.79      0.63      0.70      5148\n",
            "           1       0.72      0.90      0.80      7279\n",
            "           2       0.51      0.12      0.19       939\n",
            "\n",
            "    accuracy                           0.74     13366\n",
            "   macro avg       0.67      0.55      0.56     13366\n",
            "weighted avg       0.73      0.74      0.72     13366\n",
            "\n"
          ],
          "name": "stdout"
        }
      ]
    },
    {
      "cell_type": "markdown",
      "metadata": {
        "id": "6qHqr_uVLaLb"
      },
      "source": [
        "$\\textbf{As expected this has lesser accuracy as compared to random forest and XGBoost}$"
      ]
    },
    {
      "cell_type": "code",
      "metadata": {
        "colab": {
          "base_uri": "https://localhost:8080/",
          "height": 666
        },
        "id": "A3EM4NePLU7Q",
        "outputId": "72bd7429-1d12-4797-d152-0c6650ccf8c1"
      },
      "source": [
        "dtc.fit(np.array(x_train), np.squeeze(y_train))\n",
        "importance = dtc.feature_importances_\n",
        "for i,v in enumerate(importance):\n",
        "\tprint('Feature: %0d, Score: %.5f' % (i,v))\n",
        "# plot feature importance\n",
        "plt.bar([x for x in range(len(importance))], importance)\n",
        "plt.xlabel('features')\n",
        "plt.ylabel('importance')\n",
        "plt.show()"
      ],
      "execution_count": null,
      "outputs": [
        {
          "output_type": "stream",
          "text": [
            "Feature: 0, Score: 0.02364\n",
            "Feature: 1, Score: 0.07172\n",
            "Feature: 2, Score: 0.02684\n",
            "Feature: 3, Score: 0.07292\n",
            "Feature: 4, Score: 0.01413\n",
            "Feature: 5, Score: 0.16660\n",
            "Feature: 6, Score: 0.16883\n",
            "Feature: 7, Score: 0.01066\n",
            "Feature: 8, Score: 0.00739\n",
            "Feature: 9, Score: 0.01682\n",
            "Feature: 10, Score: 0.04561\n",
            "Feature: 11, Score: 0.00740\n",
            "Feature: 12, Score: 0.01317\n",
            "Feature: 13, Score: 0.00912\n",
            "Feature: 14, Score: 0.01638\n",
            "Feature: 15, Score: 0.02642\n",
            "Feature: 16, Score: 0.00960\n",
            "Feature: 17, Score: 0.02013\n",
            "Feature: 18, Score: 0.01121\n",
            "Feature: 19, Score: 0.15495\n",
            "Feature: 20, Score: 0.02038\n",
            "Feature: 21, Score: 0.00359\n",
            "Feature: 22, Score: 0.08250\n"
          ],
          "name": "stdout"
        },
        {
          "output_type": "display_data",
          "data": {
            "image/png": "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\n",
            "text/plain": [
              "<Figure size 432x288 with 1 Axes>"
            ]
          },
          "metadata": {
            "tags": [],
            "needs_background": "light"
          }
        }
      ]
    },
    {
      "cell_type": "markdown",
      "metadata": {
        "id": "Bb8CVEjwMNnH"
      },
      "source": [
        "$\\textbf{samne as random forest feature 21 has less importance .}$"
      ]
    },
    {
      "cell_type": "code",
      "metadata": {
        "colab": {
          "base_uri": "https://localhost:8080/"
        },
        "id": "fw6dbttFMGc6",
        "outputId": "38032704-4700-4f69-e63a-febeb3d454cd"
      },
      "source": [
        "dtc_grid.fit(np.array(x_train1) , np.squeeze(y_train1))\n",
        "print('Best Score for training data' + \" :\" + str(dtc_grid.best_score_))\n",
        " \n",
        "print('Test Classification  report')\n",
        "y_true,y_pred = np.squeeze(y_test1) , dtc_grid.predict(np.array(x_test1))\n",
        "print(classification_report(y_true,y_pred))"
      ],
      "execution_count": null,
      "outputs": [
        {
          "output_type": "stream",
          "text": [
            "Best Score for training data :0.7313686017040517\n",
            "Test Classification  report\n",
            "              precision    recall  f1-score   support\n",
            "\n",
            "           0       0.83      0.59      0.69      5112\n",
            "           1       0.71      0.92      0.80      7299\n",
            "           2       0.48      0.17      0.25       955\n",
            "\n",
            "    accuracy                           0.74     13366\n",
            "   macro avg       0.68      0.56      0.58     13366\n",
            "weighted avg       0.74      0.74      0.72     13366\n",
            "\n"
          ],
          "name": "stdout"
        }
      ]
    },
    {
      "cell_type": "markdown",
      "metadata": {
        "id": "V3G6lIM1M56x"
      },
      "source": [
        "$\\textbf{f1 score is improved after 1 feature is dropped.}$"
      ]
    },
    {
      "cell_type": "markdown",
      "metadata": {
        "id": "jDeI08RiNmb-"
      },
      "source": [
        "#Final test labels\n",
        "Using XGBoost as it gives max accuracy on training and validation data."
      ]
    },
    {
      "cell_type": "code",
      "metadata": {
        "colab": {
          "base_uri": "https://localhost:8080/",
          "height": 422
        },
        "id": "E7nhS_ThPXXB",
        "outputId": "920db7bb-4e85-471f-bd49-9034be969876"
      },
      "source": [
        "scaler.fit(test_df)\n",
        "test_X = pd.DataFrame(scaler.transform(test_df))\n",
        "display(test_X)"
      ],
      "execution_count": null,
      "outputs": [
        {
          "output_type": "display_data",
          "data": {
            "text/html": [
              "<div>\n",
              "<style scoped>\n",
              "    .dataframe tbody tr th:only-of-type {\n",
              "        vertical-align: middle;\n",
              "    }\n",
              "\n",
              "    .dataframe tbody tr th {\n",
              "        vertical-align: top;\n",
              "    }\n",
              "\n",
              "    .dataframe thead th {\n",
              "        text-align: right;\n",
              "    }\n",
              "</style>\n",
              "<table border=\"1\" class=\"dataframe\">\n",
              "  <thead>\n",
              "    <tr style=\"text-align: right;\">\n",
              "      <th></th>\n",
              "      <th>0</th>\n",
              "      <th>1</th>\n",
              "      <th>2</th>\n",
              "      <th>3</th>\n",
              "      <th>4</th>\n",
              "      <th>5</th>\n",
              "      <th>6</th>\n",
              "      <th>7</th>\n",
              "      <th>8</th>\n",
              "      <th>9</th>\n",
              "      <th>10</th>\n",
              "      <th>11</th>\n",
              "      <th>12</th>\n",
              "      <th>13</th>\n",
              "      <th>14</th>\n",
              "      <th>15</th>\n",
              "      <th>16</th>\n",
              "      <th>17</th>\n",
              "      <th>18</th>\n",
              "      <th>19</th>\n",
              "      <th>20</th>\n",
              "      <th>21</th>\n",
              "      <th>22</th>\n",
              "    </tr>\n",
              "  </thead>\n",
              "  <tbody>\n",
              "    <tr>\n",
              "      <th>0</th>\n",
              "      <td>-0.080583</td>\n",
              "      <td>1.203760</td>\n",
              "      <td>0.275091</td>\n",
              "      <td>1.445231</td>\n",
              "      <td>0.608754</td>\n",
              "      <td>0.180229</td>\n",
              "      <td>-0.835888</td>\n",
              "      <td>0.769700</td>\n",
              "      <td>-0.240756</td>\n",
              "      <td>-0.479102</td>\n",
              "      <td>1.309072</td>\n",
              "      <td>0.066282</td>\n",
              "      <td>-0.351755</td>\n",
              "      <td>0.459111</td>\n",
              "      <td>1.183731</td>\n",
              "      <td>-0.814503</td>\n",
              "      <td>0.341536</td>\n",
              "      <td>-0.449465</td>\n",
              "      <td>0.268642</td>\n",
              "      <td>-1.656988</td>\n",
              "      <td>0.937337</td>\n",
              "      <td>-0.547752</td>\n",
              "      <td>-0.889469</td>\n",
              "    </tr>\n",
              "    <tr>\n",
              "      <th>1</th>\n",
              "      <td>-0.080583</td>\n",
              "      <td>1.051575</td>\n",
              "      <td>0.275091</td>\n",
              "      <td>-0.978713</td>\n",
              "      <td>-0.956343</td>\n",
              "      <td>0.319001</td>\n",
              "      <td>0.149721</td>\n",
              "      <td>1.580371</td>\n",
              "      <td>-0.817786</td>\n",
              "      <td>-0.479102</td>\n",
              "      <td>-0.406761</td>\n",
              "      <td>0.066282</td>\n",
              "      <td>-0.351755</td>\n",
              "      <td>-1.426863</td>\n",
              "      <td>-1.224600</td>\n",
              "      <td>0.208707</td>\n",
              "      <td>0.341536</td>\n",
              "      <td>-0.449465</td>\n",
              "      <td>0.268642</td>\n",
              "      <td>-0.407685</td>\n",
              "      <td>-1.801006</td>\n",
              "      <td>-0.547752</td>\n",
              "      <td>-0.889469</td>\n",
              "    </tr>\n",
              "    <tr>\n",
              "      <th>2</th>\n",
              "      <td>-0.080583</td>\n",
              "      <td>1.114239</td>\n",
              "      <td>0.275091</td>\n",
              "      <td>-0.978713</td>\n",
              "      <td>0.608754</td>\n",
              "      <td>0.349281</td>\n",
              "      <td>-0.558181</td>\n",
              "      <td>0.769700</td>\n",
              "      <td>-0.817786</td>\n",
              "      <td>-0.479102</td>\n",
              "      <td>-0.406761</td>\n",
              "      <td>0.066282</td>\n",
              "      <td>-0.351755</td>\n",
              "      <td>0.459111</td>\n",
              "      <td>-1.224600</td>\n",
              "      <td>0.464510</td>\n",
              "      <td>0.341536</td>\n",
              "      <td>-0.449465</td>\n",
              "      <td>0.268642</td>\n",
              "      <td>-0.407685</td>\n",
              "      <td>0.480947</td>\n",
              "      <td>-0.547752</td>\n",
              "      <td>0.788170</td>\n",
              "    </tr>\n",
              "    <tr>\n",
              "      <th>3</th>\n",
              "      <td>-0.080583</td>\n",
              "      <td>0.788981</td>\n",
              "      <td>0.275091</td>\n",
              "      <td>-0.978713</td>\n",
              "      <td>0.608754</td>\n",
              "      <td>-0.387946</td>\n",
              "      <td>1.188622</td>\n",
              "      <td>-0.040970</td>\n",
              "      <td>0.163165</td>\n",
              "      <td>-0.265317</td>\n",
              "      <td>-0.406761</td>\n",
              "      <td>0.066282</td>\n",
              "      <td>-0.351755</td>\n",
              "      <td>0.459111</td>\n",
              "      <td>-1.224600</td>\n",
              "      <td>0.720313</td>\n",
              "      <td>0.341536</td>\n",
              "      <td>-0.449465</td>\n",
              "      <td>0.268642</td>\n",
              "      <td>-0.407685</td>\n",
              "      <td>0.480947</td>\n",
              "      <td>-0.547752</td>\n",
              "      <td>0.788170</td>\n",
              "    </tr>\n",
              "    <tr>\n",
              "      <th>4</th>\n",
              "      <td>-0.080583</td>\n",
              "      <td>0.738252</td>\n",
              "      <td>2.283249</td>\n",
              "      <td>-0.978713</td>\n",
              "      <td>0.608754</td>\n",
              "      <td>-0.335295</td>\n",
              "      <td>1.502644</td>\n",
              "      <td>-0.040970</td>\n",
              "      <td>0.163165</td>\n",
              "      <td>-0.372210</td>\n",
              "      <td>-0.406761</td>\n",
              "      <td>0.066282</td>\n",
              "      <td>-0.351755</td>\n",
              "      <td>0.459111</td>\n",
              "      <td>-1.224600</td>\n",
              "      <td>-0.814503</td>\n",
              "      <td>0.341536</td>\n",
              "      <td>-0.449465</td>\n",
              "      <td>0.268642</td>\n",
              "      <td>0.841618</td>\n",
              "      <td>-0.431835</td>\n",
              "      <td>1.728798</td>\n",
              "      <td>-0.889469</td>\n",
              "    </tr>\n",
              "    <tr>\n",
              "      <th>...</th>\n",
              "      <td>...</td>\n",
              "      <td>...</td>\n",
              "      <td>...</td>\n",
              "      <td>...</td>\n",
              "      <td>...</td>\n",
              "      <td>...</td>\n",
              "      <td>...</td>\n",
              "      <td>...</td>\n",
              "      <td>...</td>\n",
              "      <td>...</td>\n",
              "      <td>...</td>\n",
              "      <td>...</td>\n",
              "      <td>...</td>\n",
              "      <td>...</td>\n",
              "      <td>...</td>\n",
              "      <td>...</td>\n",
              "      <td>...</td>\n",
              "      <td>...</td>\n",
              "      <td>...</td>\n",
              "      <td>...</td>\n",
              "      <td>...</td>\n",
              "      <td>...</td>\n",
              "      <td>...</td>\n",
              "    </tr>\n",
              "    <tr>\n",
              "      <th>14845</th>\n",
              "      <td>0.151156</td>\n",
              "      <td>1.164968</td>\n",
              "      <td>-2.235107</td>\n",
              "      <td>1.640477</td>\n",
              "      <td>0.608754</td>\n",
              "      <td>0.072094</td>\n",
              "      <td>-1.403989</td>\n",
              "      <td>-1.256976</td>\n",
              "      <td>-0.240756</td>\n",
              "      <td>-0.051532</td>\n",
              "      <td>-0.306355</td>\n",
              "      <td>0.066282</td>\n",
              "      <td>-0.351755</td>\n",
              "      <td>-1.426863</td>\n",
              "      <td>0.380954</td>\n",
              "      <td>-0.814503</td>\n",
              "      <td>0.341536</td>\n",
              "      <td>-1.537943</td>\n",
              "      <td>0.268642</td>\n",
              "      <td>2.090921</td>\n",
              "      <td>0.937337</td>\n",
              "      <td>-0.547752</td>\n",
              "      <td>-0.889469</td>\n",
              "    </tr>\n",
              "    <tr>\n",
              "      <th>14846</th>\n",
              "      <td>-0.080583</td>\n",
              "      <td>1.141096</td>\n",
              "      <td>0.275091</td>\n",
              "      <td>-0.614254</td>\n",
              "      <td>0.608754</td>\n",
              "      <td>0.395105</td>\n",
              "      <td>-0.845394</td>\n",
              "      <td>0.769700</td>\n",
              "      <td>-0.586974</td>\n",
              "      <td>-0.265317</td>\n",
              "      <td>-0.072073</td>\n",
              "      <td>0.066282</td>\n",
              "      <td>2.065664</td>\n",
              "      <td>0.459111</td>\n",
              "      <td>1.183731</td>\n",
              "      <td>0.464510</td>\n",
              "      <td>0.341536</td>\n",
              "      <td>-0.449465</td>\n",
              "      <td>0.268642</td>\n",
              "      <td>0.841618</td>\n",
              "      <td>0.480947</td>\n",
              "      <td>-0.547752</td>\n",
              "      <td>0.788170</td>\n",
              "    </tr>\n",
              "    <tr>\n",
              "      <th>14847</th>\n",
              "      <td>-0.080583</td>\n",
              "      <td>-0.637383</td>\n",
              "      <td>-1.231028</td>\n",
              "      <td>-0.978713</td>\n",
              "      <td>-3.303989</td>\n",
              "      <td>-0.157101</td>\n",
              "      <td>0.241273</td>\n",
              "      <td>-0.446305</td>\n",
              "      <td>-0.067647</td>\n",
              "      <td>-0.265317</td>\n",
              "      <td>-0.406761</td>\n",
              "      <td>0.066282</td>\n",
              "      <td>-0.351755</td>\n",
              "      <td>0.459111</td>\n",
              "      <td>-1.224600</td>\n",
              "      <td>0.720313</td>\n",
              "      <td>0.341536</td>\n",
              "      <td>-0.449465</td>\n",
              "      <td>0.268642</td>\n",
              "      <td>-1.656988</td>\n",
              "      <td>0.937337</td>\n",
              "      <td>-0.547752</td>\n",
              "      <td>-0.330256</td>\n",
              "    </tr>\n",
              "    <tr>\n",
              "      <th>14848</th>\n",
              "      <td>-0.080583</td>\n",
              "      <td>-0.864169</td>\n",
              "      <td>0.275091</td>\n",
              "      <td>0.892757</td>\n",
              "      <td>0.608754</td>\n",
              "      <td>-0.525397</td>\n",
              "      <td>0.619862</td>\n",
              "      <td>-0.446305</td>\n",
              "      <td>0.047759</td>\n",
              "      <td>-0.479102</td>\n",
              "      <td>1.155116</td>\n",
              "      <td>0.066282</td>\n",
              "      <td>-0.351755</td>\n",
              "      <td>-1.426863</td>\n",
              "      <td>1.183731</td>\n",
              "      <td>-0.814503</td>\n",
              "      <td>0.341536</td>\n",
              "      <td>1.727492</td>\n",
              "      <td>0.268642</td>\n",
              "      <td>-0.407685</td>\n",
              "      <td>0.937337</td>\n",
              "      <td>-0.547752</td>\n",
              "      <td>-0.330256</td>\n",
              "    </tr>\n",
              "    <tr>\n",
              "      <th>14849</th>\n",
              "      <td>-0.073631</td>\n",
              "      <td>1.209728</td>\n",
              "      <td>0.275091</td>\n",
              "      <td>-0.891937</td>\n",
              "      <td>0.608754</td>\n",
              "      <td>0.798715</td>\n",
              "      <td>-0.470349</td>\n",
              "      <td>1.580371</td>\n",
              "      <td>2.586692</td>\n",
              "      <td>4.010391</td>\n",
              "      <td>-0.404530</td>\n",
              "      <td>0.066282</td>\n",
              "      <td>-0.351755</td>\n",
              "      <td>-1.426863</td>\n",
              "      <td>1.183731</td>\n",
              "      <td>1.743524</td>\n",
              "      <td>0.341536</td>\n",
              "      <td>1.183253</td>\n",
              "      <td>0.268642</td>\n",
              "      <td>-0.407685</td>\n",
              "      <td>-1.801006</td>\n",
              "      <td>-0.547752</td>\n",
              "      <td>-0.889469</td>\n",
              "    </tr>\n",
              "  </tbody>\n",
              "</table>\n",
              "<p>14850 rows × 23 columns</p>\n",
              "</div>"
            ],
            "text/plain": [
              "             0         1         2   ...        20        21        22\n",
              "0     -0.080583  1.203760  0.275091  ...  0.937337 -0.547752 -0.889469\n",
              "1     -0.080583  1.051575  0.275091  ... -1.801006 -0.547752 -0.889469\n",
              "2     -0.080583  1.114239  0.275091  ...  0.480947 -0.547752  0.788170\n",
              "3     -0.080583  0.788981  0.275091  ...  0.480947 -0.547752  0.788170\n",
              "4     -0.080583  0.738252  2.283249  ... -0.431835  1.728798 -0.889469\n",
              "...         ...       ...       ...  ...       ...       ...       ...\n",
              "14845  0.151156  1.164968 -2.235107  ...  0.937337 -0.547752 -0.889469\n",
              "14846 -0.080583  1.141096  0.275091  ...  0.480947 -0.547752  0.788170\n",
              "14847 -0.080583 -0.637383 -1.231028  ...  0.937337 -0.547752 -0.330256\n",
              "14848 -0.080583 -0.864169  0.275091  ...  0.937337 -0.547752 -0.330256\n",
              "14849 -0.073631  1.209728  0.275091  ... -1.801006 -0.547752 -0.889469\n",
              "\n",
              "[14850 rows x 23 columns]"
            ]
          },
          "metadata": {
            "tags": []
          }
        }
      ]
    },
    {
      "cell_type": "code",
      "metadata": {
        "id": "Szmj7umiNkoe"
      },
      "source": [
        "y_predict = xgb.predict(np.array(test_X))"
      ],
      "execution_count": null,
      "outputs": []
    },
    {
      "cell_type": "code",
      "metadata": {
        "colab": {
          "base_uri": "https://localhost:8080/"
        },
        "id": "ymxCejK0PnT6",
        "outputId": "277116d2-f693-416d-97a3-c5da97999d93"
      },
      "source": [
        "y_predict"
      ],
      "execution_count": null,
      "outputs": [
        {
          "output_type": "execute_result",
          "data": {
            "text/plain": [
              "array([0, 1, 1, ..., 0, 1, 1])"
            ]
          },
          "metadata": {
            "tags": []
          },
          "execution_count": 162
        }
      ]
    },
    {
      "cell_type": "code",
      "metadata": {
        "colab": {
          "base_uri": "https://localhost:8080/"
        },
        "id": "6X2uvUAIPo2C",
        "outputId": "6b5648ce-bf35-4145-e084-504c8660b3e1"
      },
      "source": [
        "df = pd.DataFrame(y_predict)\n",
        "df.value_counts()"
      ],
      "execution_count": null,
      "outputs": [
        {
          "output_type": "execute_result",
          "data": {
            "text/plain": [
              "1    11440\n",
              "0     3273\n",
              "2      137\n",
              "dtype: int64"
            ]
          },
          "metadata": {
            "tags": []
          },
          "execution_count": 163
        }
      ]
    },
    {
      "cell_type": "markdown",
      "metadata": {
        "id": "5C-dhzBSRHik"
      },
      "source": [
        "$\\text{mapping 0,1,2 to status of pump}$"
      ]
    },
    {
      "cell_type": "code",
      "metadata": {
        "id": "wJDvIo7vQc80"
      },
      "source": [
        "df = df.replace([0 , 1 , 2 ],['non functional' , 'functional' , 'functional needs repair' ])"
      ],
      "execution_count": null,
      "outputs": []
    },
    {
      "cell_type": "code",
      "metadata": {
        "id": "Gep5j_5oRgzn"
      },
      "source": [
        "df.to_csv(\"final_test_lables.csv\")"
      ],
      "execution_count": null,
      "outputs": []
    },
    {
      "cell_type": "code",
      "metadata": {
        "colab": {
          "base_uri": "https://localhost:8080/"
        },
        "id": "Opjzlf2USIdB",
        "outputId": "bbfa3639-60d3-456d-f58b-d4e8190d6f27"
      },
      "source": [
        "df.value_counts()"
      ],
      "execution_count": null,
      "outputs": [
        {
          "output_type": "execute_result",
          "data": {
            "text/plain": [
              "functional                 11440\n",
              "non functional              3273\n",
              "functional needs repair      137\n",
              "dtype: int64"
            ]
          },
          "metadata": {
            "tags": []
          },
          "execution_count": 166
        }
      ]
    },
    {
      "cell_type": "markdown",
      "metadata": {
        "id": "DOe24riXSvN4"
      },
      
        ### Prediction : functional pumps are 11440 , non functional pumps 3273 , functional needs repair 137

    }
  ]
}
